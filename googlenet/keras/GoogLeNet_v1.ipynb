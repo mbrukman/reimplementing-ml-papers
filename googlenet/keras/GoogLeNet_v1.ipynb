{
  "cells": [
    {
      "cell_type": "code",
      "execution_count": null,
      "metadata": {
        "id": null
      },
      "outputs": [],
      "source": [
        "# Copyright 2022 Google LLC\n",
        "#\n",
        "# Licensed under the Apache License, Version 2.0 (the \"License\");\n",
        "# you may not use this file except in compliance with the License.\n",
        "# You may obtain a copy of the License at\n",
        "#\n",
        "#      http://www.apache.org/licenses/LICENSE-2.0\n",
        "#\n",
        "# Unless required by applicable law or agreed to in writing, software\n",
        "# distributed under the License is distributed on an \"AS IS\" BASIS,\n",
        "# WITHOUT WARRANTIES OR CONDITIONS OF ANY KIND, either express or implied.\n",
        "# See the License for the specific language governing permissions and\n",
        "# limitations under the License."
      ]
    },
    {
      "cell_type": "markdown",
      "metadata": {
        "id": null
      },
      "source": [
        "[![View on GitHub][github-badge]][github-basic] [![Open In Colab][colab-badge]][colab-basic] [![Open in Binder][binder-badge]][binder-basic]\n",
        "\n",
        "[github-badge]: https://img.shields.io/badge/View-on%20GitHub-blue?logo=GitHub\n",
        "[colab-badge]: https://colab.research.google.com/assets/colab-badge.svg\n",
        "[binder-badge]: https://static.mybinder.org/badge_logo.svg\n",
        "\n",
        "[github-basic]: https://github.com/mbrukman/reimplementing-ml-papers/blob/main/googlenet/keras/GoogLeNet_v1.ipynb\n",
        "[colab-basic]: https://colab.research.google.com/github/mbrukman/reimplementing-ml-papers/blob/main/googlenet/keras/GoogLeNet_v1.ipynb\n",
        "[binder-basic]: https://mybinder.org/v2/gh/mbrukman/reimplementing-ml-papers/main?filepath=googlenet/keras/GoogLeNet_v1.ipynb"
      ]
    },
    {
      "cell_type": "code",
      "execution_count": null,
      "metadata": {
        "id": null
      },
      "outputs": [],
      "source": [
        "%%bash\n",
        "\n",
        "readonly GH_USER=\"mbrukman\"\n",
        "readonly GH_REPO=\"reimplementing-ml-papers\"\n",
        "readonly GH_BRANCH=\"main\"\n",
        "\n",
        "# Download the LocalResponseNormalization layer from AlexNet and the GoogLeNet\n",
        "# implementation.\n",
        "for path in alexnet/local_response_normalization.py \\\n",
        "            googlenet/keras/googlenet.py ; do\n",
        "  module=\"$(basename \"${path}\")\"\n",
        "  if ! [ -f \"${module}\" ]; then\n",
        "    curl -s -o \"${module}\" \"https://raw.githubusercontent.com/${GH_USER}/${GH_REPO}/${GH_BRANCH}/${path}\"\n",
        "  fi\n",
        "done"
      ]
    },
    {
      "cell_type": "code",
      "execution_count": null,
      "metadata": {
        "id": null
      },
      "outputs": [
        {
          "name": "stdout",
          "output_type": "stream",
          "text": [
            "Model: \"GoogLeNet\"\n",
            "__________________________________________________________________________________________________\n",
            " Layer (type)                Output Shape                 Param #   Connected to                  \n",
            "==================================================================================================\n",
            " Input (InputLayer)          [(None, 224, 224, 3)]        0         []                            \n",
            "                                                                                                  \n",
            " Conv1 (Conv2D)              (None, 112, 112, 64)         9472      ['Input[0][0]']               \n",
            "                                                                                                  \n",
            " MaxPool_1 (MaxPooling2D)    (None, 56, 56, 64)           0         ['Conv1[0][0]']               \n",
            "                                                                                                  \n",
            " LRN1 (LocalResponseNormali  (None, 56, 56, 64)           0         ['MaxPool_1[0][0]']           \n",
            " zation)                                                                                          \n",
            "                                                                                                  \n",
            " Conv_2 (Conv2D)             (None, 56, 56, 192)          12480     ['LRN1[0][0]']                \n",
            "                                                                                                  \n",
            " Conv_3 (Conv2D)             (None, 56, 56, 192)          331968    ['Conv_2[0][0]']              \n",
            "                                                                                                  \n",
            " LRN2 (LocalResponseNormali  (None, 56, 56, 192)          0         ['Conv_3[0][0]']              \n",
            " zation)                                                                                          \n",
            "                                                                                                  \n",
            " MaxPool_2 (MaxPooling2D)    (None, 28, 28, 192)          0         ['LRN2[0][0]']                \n",
            "                                                                                                  \n",
            " Inception_3a (Inception)    (None, 28, 28, 256)          163696    ['MaxPool_2[0][0]']           \n",
            "                                                                                                  \n",
            " Inception_3b (Inception)    (None, 28, 28, 480)          388736    ['Inception_3a[0][0]']        \n",
            "                                                                                                  \n",
            " MaxPool_3 (MaxPooling2D)    (None, 14, 14, 480)          0         ['Inception_3b[0][0]']        \n",
            "                                                                                                  \n",
            " Inception_4a (Inception)    (None, 14, 14, 512)          376176    ['MaxPool_3[0][0]']           \n",
            "                                                                                                  \n",
            " Inception_4b (Inception)    (None, 14, 14, 512)          449160    ['Inception_4a[0][0]']        \n",
            "                                                                                                  \n",
            " Inception_4c (Inception)    (None, 14, 14, 512)          510104    ['Inception_4b[0][0]']        \n",
            "                                                                                                  \n",
            " Inception_4d (Inception)    (None, 14, 14, 560)          631008    ['Inception_4c[0][0]']        \n",
            "                                                                                                  \n",
            " Inception_4e (Inception)    (None, 14, 14, 832)          886784    ['Inception_4d[0][0]']        \n",
            "                                                                                                  \n",
            " MaxPool_4 (MaxPooling2D)    (None, 7, 7, 832)            0         ['Inception_4e[0][0]']        \n",
            "                                                                                                  \n",
            " AvgPool_out0 (AveragePooli  (None, 4, 4, 512)            0         ['Inception_4a[0][0]']        \n",
            " ng2D)                                                                                            \n",
            "                                                                                                  \n",
            " AvgPool_out1 (AveragePooli  (None, 4, 4, 560)            0         ['Inception_4d[0][0]']        \n",
            " ng2D)                                                                                            \n",
            "                                                                                                  \n",
            " Inception_5a (Inception)    (None, 7, 7, 832)            1043456   ['MaxPool_4[0][0]']           \n",
            "                                                                                                  \n",
            " Conv2D_out0 (Conv2D)        (None, 4, 4, 128)            65664     ['AvgPool_out0[0][0]']        \n",
            "                                                                                                  \n",
            " Conv2D_out1 (Conv2D)        (None, 4, 4, 128)            71808     ['AvgPool_out1[0][0]']        \n",
            "                                                                                                  \n",
            " Inception_5b (Inception)    (None, 7, 7, 1024)           1444080   ['Inception_5a[0][0]']        \n",
            "                                                                                                  \n",
            " Flatten_out0 (Flatten)      (None, 2048)                 0         ['Conv2D_out0[0][0]']         \n",
            "                                                                                                  \n",
            " Flatten_out1 (Flatten)      (None, 2048)                 0         ['Conv2D_out1[0][0]']         \n",
            "                                                                                                  \n",
            " AvgPool_out2 (AveragePooli  (None, 1, 1, 1024)           0         ['Inception_5b[0][0]']        \n",
            " ng2D)                                                                                            \n",
            "                                                                                                  \n",
            " FC_1_out0 (Dense)           (None, 1000)                 2049000   ['Flatten_out0[0][0]']        \n",
            "                                                                                                  \n",
            " FC_1_out1 (Dense)           (None, 1000)                 2049000   ['Flatten_out1[0][0]']        \n",
            "                                                                                                  \n",
            " Flatten_out2 (Flatten)      (None, 1024)                 0         ['AvgPool_out2[0][0]']        \n",
            "                                                                                                  \n",
            " Dropout_out0 (Dropout)      (None, 1000)                 0         ['FC_1_out0[0][0]']           \n",
            "                                                                                                  \n",
            " Dropout_out1 (Dropout)      (None, 1000)                 0         ['FC_1_out1[0][0]']           \n",
            "                                                                                                  \n",
            " Dropout_out2 (Dropout)      (None, 1024)                 0         ['Flatten_out2[0][0]']        \n",
            "                                                                                                  \n",
            " FC_2_out0 (Dense)           (None, 1000)                 1001000   ['Dropout_out0[0][0]']        \n",
            "                                                                                                  \n",
            " FC_2_out1 (Dense)           (None, 1000)                 1001000   ['Dropout_out1[0][0]']        \n",
            "                                                                                                  \n",
            " FC_out2 (Dense)             (None, 1000)                 1025000   ['Dropout_out2[0][0]']        \n",
            "                                                                                                  \n",
            " Activation_out0 (Activatio  (None, 1000)                 0         ['FC_2_out0[0][0]']           \n",
            " n)                                                                                               \n",
            "                                                                                                  \n",
            " Activation_out1 (Activatio  (None, 1000)                 0         ['FC_2_out1[0][0]']           \n",
            " n)                                                                                               \n",
            "                                                                                                  \n",
            " Activation_out2 (Activatio  (None, 1000)                 0         ['FC_out2[0][0]']             \n",
            " n)                                                                                               \n",
            "                                                                                                  \n",
            "==================================================================================================\n",
            "Total params: 13509592 (51.54 MB)\n",
            "Trainable params: 13509592 (51.54 MB)\n",
            "Non-trainable params: 0 (0.00 Byte)\n",
            "__________________________________________________________________________________________________\n"
          ]
        }
      ],
      "source": [
        "from googlenet import GoogLeNet\n",
        "\n",
        "model = GoogLeNet()\n",
        "model.summary()"
      ]
    }
  ],
  "metadata": {
    "colab": {
      "name": "GoogLeNet v1 in Keras"
    },
    "kernelspec": {
      "display_name": "Python 3",
      "name": "python3"
    },
    "language_info": {
      "name": "python"
    }
  },
  "nbformat": 4,
  "nbformat_minor": 0
}