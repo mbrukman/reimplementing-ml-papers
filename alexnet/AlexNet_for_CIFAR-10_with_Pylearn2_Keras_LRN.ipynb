{
  "cells": [
    {
      "cell_type": "code",
      "execution_count": null,
      "metadata": {
        "id": "4zLuzkUgnLrK"
      },
      "outputs": [],
      "source": [
        "# Copyright 2022 Google LLC\n",
        "#\n",
        "# Licensed under the Apache License, Version 2.0 (the \"License\");\n",
        "# you may not use this file except in compliance with the License.\n",
        "# You may obtain a copy of the License at\n",
        "#\n",
        "#      http://www.apache.org/licenses/LICENSE-2.0\n",
        "#\n",
        "# Unless required by applicable law or agreed to in writing, software\n",
        "# distributed under the License is distributed on an \"AS IS\" BASIS,\n",
        "# WITHOUT WARRANTIES OR CONDITIONS OF ANY KIND, either express or implied.\n",
        "# See the License for the specific language governing permissions and\n",
        "# limitations under the License."
      ]
    },
    {
      "cell_type": "code",
      "execution_count": null,
      "metadata": {
        "id": "9szn5TsGnVCT"
      },
      "outputs": [],
      "source": [
        "import numpy as np\n",
        "import tensorflow as tf\n",
        "from tensorflow import keras\n",
        "from keras import Input, Sequential\n",
        "from keras.layers import Conv2D, Dense, Dropout, Flatten, MaxPool2D\n",
        "from matplotlib import pyplot as plt"
      ]
    },
    {
      "cell_type": "code",
      "execution_count": null,
      "metadata": {
        "id": "1gwzY0NpJzfB"
      },
      "outputs": [],
      "source": [
        "# Download the Pylearn2/Keras implementation of LocalResponseNormalization.\n",
        "!curl -sO https://raw.githubusercontent.com/mbrukman/reimplementing-ml-papers/main/third_party/pylearn2/local_response_normalization.py\n",
        "\n",
        "from local_response_normalization import LRN2D"
      ]
    },
    {
      "cell_type": "code",
      "execution_count": null,
      "metadata": {
        "colab": {
          "base_uri": "https://localhost:8080/"
        },
        "id": "nmuynEz5nw_x",
        "outputId": "ae5ae84a-644d-4e3d-81f9-8d4799d79018"
      },
      "outputs": [
        {
          "name": "stdout",
          "output_type": "stream",
          "text": [
            "Downloading data from https://www.cs.toronto.edu/~kriz/cifar-10-python.tar.gz\n",
            "170500096/170498071 [==============================] - 2s 0us/step\n",
            "170508288/170498071 [==============================] - 2s 0us/step\n"
          ]
        }
      ],
      "source": [
        "# Load the CIFAR-10 dataset.\n",
        "(x_train_raw, y_train_raw), (x_test_raw, y_test_raw) = keras.datasets.cifar10.load_data();"
      ]
    },
    {
      "cell_type": "code",
      "execution_count": null,
      "metadata": {
        "id": "RKByh8Ber805"
      },
      "outputs": [],
      "source": [
        "num_classes = 10\n",
        "\n",
        "# Scale train and test inputs by converting them from range of [0, 255] to [0.0, 1.0]\n",
        "x_train = x_train_raw.astype('float32') / 255.0\n",
        "x_test = x_test_raw.astype('float32') / 255.0\n",
        "\n",
        "# Convert the output to categorical one-hot encoding to match the output of our\n",
        "# network.\n",
        "y_train = keras.utils.to_categorical(y_train_raw, num_classes)\n",
        "y_test = keras.utils.to_categorical(y_test_raw, num_classes)"
      ]
    },
    {
      "cell_type": "code",
      "execution_count": null,
      "metadata": {
        "colab": {
          "base_uri": "https://localhost:8080/"
        },
        "id": "8WbwCWBentil",
        "outputId": "c79b050f-dc0a-43d5-d938-2c905752a547"
      },
      "outputs": [
        {
          "name": "stdout",
          "output_type": "stream",
          "text": [
            "Model: \"CIFAR-10-Pylearn2-Keras-LRN2D\"\n",
            "_________________________________________________________________\n",
            " Layer (type)                Output Shape              Param #   \n",
            "=================================================================\n",
            " Conv1 (Conv2D)              (None, 32, 32, 64)        4864      \n",
            "                                                                 \n",
            " MaxPool1 (MaxPooling2D)     (None, 15, 15, 64)        0         \n",
            "                                                                 \n",
            " LRN1 (LRN2D)                (None, 15, 15, 64)        0         \n",
            "                                                                 \n",
            " Conv2 (Conv2D)              (None, 15, 15, 64)        102464    \n",
            "                                                                 \n",
            " LRN2 (LRN2D)                (None, 15, 15, 64)        0         \n",
            "                                                                 \n",
            " MaxPool2 (MaxPooling2D)     (None, 7, 7, 64)          0         \n",
            "                                                                 \n",
            " Local3 (Conv2D)             (None, 7, 7, 64)          36928     \n",
            "                                                                 \n",
            " Local4 (Conv2D)             (None, 7, 7, 32)          18464     \n",
            "                                                                 \n",
            " flatten (Flatten)           (None, 1568)              0         \n",
            "                                                                 \n",
            " FC10 (Dense)                (None, 10)                15690     \n",
            "                                                                 \n",
            "=================================================================\n",
            "Total params: 178,410\n",
            "Trainable params: 178,410\n",
            "Non-trainable params: 0\n",
            "_________________________________________________________________\n"
          ]
        }
      ],
      "source": [
        "# Define the model architecture, this comes from the the Google Code project\n",
        "# mentioned in the paper \u2014 https://code.google.com/p/cuda-convnet/ \u2014\n",
        "# specifically, the file `examples-layers/layers-conv-local-11pct.cfg`.\n",
        "model = Sequential([\n",
        "    Input(shape=(32, 32, 3)),\n",
        "    Conv2D(filters=64, kernel_size=5, strides=1, padding='same', activation='relu', name='Conv1'),\n",
        "    MaxPool2D(pool_size=3, strides=2, padding='valid', name='MaxPool1'),\n",
        "    LRN2D(name='LRN1'),\n",
        "    Conv2D(filters=64, kernel_size=(5, 5), padding='same', activation='relu', name='Conv2'),\n",
        "    LRN2D(name='LRN2'),\n",
        "    MaxPool2D(pool_size=3, strides=2, padding='valid', name='MaxPool2'),\n",
        "    Conv2D(filters=64, kernel_size=3, padding='same', activation='relu', name='Local3'),\n",
        "    Conv2D(filters=32, kernel_size=3, padding='same', activation='relu', name='Local4'),\n",
        "    Flatten(),\n",
        "    Dense(10, activation='softmax', name=\"FC10\"),\n",
        "], name=\"CIFAR-10-Pylearn2-Keras-LRN2D\")\n",
        "\n",
        "model.summary()"
      ]
    },
    {
      "cell_type": "code",
      "execution_count": null,
      "metadata": {
        "id": "zqDedv8RvIHE"
      },
      "outputs": [],
      "source": [
        "# Compile the model with optimizer and loss function.\n",
        "opt = keras.optimizers.Adam(learning_rate=0.001)\n",
        "loss_fn = keras.losses.CategoricalCrossentropy()\n",
        "model.compile(optimizer=opt, loss=loss_fn, metrics=['accuracy'])"
      ]
    },
    {
      "cell_type": "code",
      "execution_count": null,
      "metadata": {
        "colab": {
          "base_uri": "https://localhost:8080/"
        },
        "id": "nprurN1dvK5-",
        "outputId": "f2f406e1-50fb-4292-efe6-679d322514e4"
      },
      "outputs": [
        {
          "name": "stdout",
          "output_type": "stream",
          "text": [
            "Epoch 1/20\n",
            "1563/1563 [==============================] - 334s 213ms/step - loss: 1.5085 - accuracy: 0.4538\n",
            "Epoch 2/20\n",
            "1563/1563 [==============================] - 333s 213ms/step - loss: 1.1214 - accuracy: 0.6022\n",
            "Epoch 3/20\n",
            "1563/1563 [==============================] - 335s 214ms/step - loss: 0.9469 - accuracy: 0.6651\n",
            "Epoch 4/20\n",
            "1563/1563 [==============================] - 345s 221ms/step - loss: 0.8448 - accuracy: 0.7037\n",
            "Epoch 5/20\n",
            "1563/1563 [==============================] - 333s 213ms/step - loss: 0.7661 - accuracy: 0.7308\n",
            "Epoch 6/20\n",
            "1563/1563 [==============================] - 333s 213ms/step - loss: 0.7095 - accuracy: 0.7527\n",
            "Epoch 7/20\n",
            "1563/1563 [==============================] - 333s 213ms/step - loss: 0.6607 - accuracy: 0.7681\n",
            "Epoch 8/20\n",
            "1563/1563 [==============================] - 332s 212ms/step - loss: 0.6190 - accuracy: 0.7817\n",
            "Epoch 9/20\n",
            "1563/1563 [==============================] - 333s 213ms/step - loss: 0.5824 - accuracy: 0.7961\n",
            "Epoch 10/20\n",
            "1563/1563 [==============================] - 335s 214ms/step - loss: 0.5482 - accuracy: 0.8063\n",
            "Epoch 11/20\n",
            "1563/1563 [==============================] - 334s 213ms/step - loss: 0.5117 - accuracy: 0.8196\n",
            "Epoch 12/20\n",
            "1563/1563 [==============================] - 334s 213ms/step - loss: 0.4790 - accuracy: 0.8289\n",
            "Epoch 13/20\n",
            "1563/1563 [==============================] - 335s 214ms/step - loss: 0.4556 - accuracy: 0.8390\n",
            "Epoch 14/20\n",
            "1563/1563 [==============================] - 333s 213ms/step - loss: 0.4274 - accuracy: 0.8467\n",
            "Epoch 15/20\n",
            "1563/1563 [==============================] - 343s 220ms/step - loss: 0.4089 - accuracy: 0.8546\n",
            "Epoch 16/20\n",
            "1563/1563 [==============================] - 336s 215ms/step - loss: 0.3913 - accuracy: 0.8611\n",
            "Epoch 17/20\n",
            "1563/1563 [==============================] - 333s 213ms/step - loss: 0.3654 - accuracy: 0.8680\n",
            "Epoch 18/20\n",
            "1563/1563 [==============================] - 331s 212ms/step - loss: 0.3563 - accuracy: 0.8726\n",
            "Epoch 19/20\n",
            "1563/1563 [==============================] - 331s 211ms/step - loss: 0.3334 - accuracy: 0.8805\n",
            "Epoch 20/20\n",
            "1563/1563 [==============================] - 338s 216ms/step - loss: 0.3192 - accuracy: 0.8867\n"
          ]
        },
        {
          "data": {
            "text/plain": [
              "<keras.callbacks.History at 0x7f4a7e7a5850>"
            ]
          },
          "execution_count": null,
          "metadata": {},
          "output_type": "execute_result"
        }
      ],
      "source": [
        "# Train the model\n",
        "model.fit(x_train, y_train, epochs=20)"
      ]
    },
    {
      "cell_type": "code",
      "execution_count": null,
      "metadata": {
        "colab": {
          "base_uri": "https://localhost:8080/"
        },
        "id": "GXtV8JJbvMlj",
        "outputId": "d0a5ec70-1f0f-43b8-de59-11076646f694"
      },
      "outputs": [
        {
          "name": "stdout",
          "output_type": "stream",
          "text": [
            "313/313 [==============================] - 16s 51ms/step - loss: 1.3028 - accuracy: 0.6922\n"
          ]
        },
        {
          "data": {
            "text/plain": [
              "[1.3027948141098022, 0.6922000050544739]"
            ]
          },
          "execution_count": null,
          "metadata": {},
          "output_type": "execute_result"
        }
      ],
      "source": [
        "# Evaluate the model\n",
        "model.evaluate(x_test, y_test)"
      ]
    }
  ],
  "metadata": {
    "accelerator": "TPU",
    "colab": {
      "collapsed_sections": [],
      "provenance": []
    },
    "kernelspec": {
      "display_name": "Python 3",
      "name": "python3"
    },
    "language_info": {
      "name": "python"
    }
  },
  "nbformat": 4,
  "nbformat_minor": 0
}