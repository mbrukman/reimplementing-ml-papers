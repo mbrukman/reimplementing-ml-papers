{
  "cells": [
    {
      "cell_type": "code",
      "execution_count": null,
      "metadata": {
        "id": null
      },
      "outputs": [],
      "source": [
        "# Copyright 2022 Google LLC\n",
        "#\n",
        "# Licensed under the Apache License, Version 2.0 (the \"License\");\n",
        "# you may not use this file except in compliance with the License.\n",
        "# You may obtain a copy of the License at\n",
        "#\n",
        "#      http://www.apache.org/licenses/LICENSE-2.0\n",
        "#\n",
        "# Unless required by applicable law or agreed to in writing, software\n",
        "# distributed under the License is distributed on an \"AS IS\" BASIS,\n",
        "# WITHOUT WARRANTIES OR CONDITIONS OF ANY KIND, either express or implied.\n",
        "# See the License for the specific language governing permissions and\n",
        "# limitations under the License."
      ]
    },
    {
      "cell_type": "markdown",
      "metadata": {
        "id": null
      },
      "source": [
        "[![View on GitHub][github-badge]][github-cifar10-tf-nn-lrn] [![Open In Colab][colab-badge]][colab-cifar10-tf-nn-lrn] [![Open in Binder][binder-badge]][binder-cifar10-tf-nn-lrn]\n",
        "\n",
        "[github-badge]: https://img.shields.io/badge/View-on%20GitHub-blue?logo=GitHub\n",
        "[colab-badge]: https://colab.research.google.com/assets/colab-badge.svg\n",
        "[binder-badge]: https://static.mybinder.org/badge_logo.svg\n",
        "\n",
        "[github-cifar10-tf-nn-lrn]: https://github.com/mbrukman/reimplementing-ml-papers/blob/main/alexnet/AlexNet_for_CIFAR-10_in_Keras_with_tf_nn_LocalResponseNormalization.ipynb\n",
        "[colab-cifar10-tf-nn-lrn]: https://colab.research.google.com/github/mbrukman/reimplementing-ml-papers/blob/main/alexnet/AlexNet_for_CIFAR-10_in_Keras_with_tf_nn_LocalResponseNormalization.ipynb\n",
        "[binder-cifar10-tf-nn-lrn]: https://mybinder.org/v2/gh/mbrukman/reimplementing-ml-papers/main?filepath=alexnet/AlexNet_for_CIFAR-10_in_Keras_with_tf_nn_LocalResponseNormalization.ipynb"
      ]
    },
    {
      "cell_type": "code",
      "execution_count": null,
      "metadata": {
        "id": null
      },
      "outputs": [],
      "source": [
        "%%bash\n",
        "\n",
        "readonly GH_USER=\"mbrukman\"\n",
        "readonly GH_REPO=\"reimplementing-ml-papers\"\n",
        "readonly GH_BRANCH=\"main\"\n",
        "\n",
        "# Download the AlexNet CIFAR-10 model definition and LocalResponseNormalization\n",
        "# layer needed to construct it.\n",
        "for module in alexnet_cifar10 local_response_normalization ; do\n",
        "  if ! [ -f \"${module}.py\" ]; then\n",
        "    curl -sO \"https://raw.githubusercontent.com/${GH_USER}/${GH_REPO}/${GH_BRANCH}/alexnet/${module}.py\"\n",
        "  fi\n",
        "done\n",
        "\n",
        "# Download our library for processing the CIFAR-10 dataset.\n",
        "for module in cifar10_keras ; do\n",
        "  if ! [ -f \"${module}.py\" ]; then\n",
        "    curl -sO \"https://raw.githubusercontent.com/${GH_USER}/${GH_REPO}/${GH_BRANCH}/datasets/cifar-10/${module}.py\"\n",
        "  fi\n",
        "done"
      ]
    },
    {
      "cell_type": "code",
      "execution_count": null,
      "metadata": {
        "id": null
      },
      "outputs": [
        {
          "name": "stdout",
          "output_type": "stream",
          "text": [
            "Model: \"CIFAR-10-TF-NN-LRN\"\n",
            "_________________________________________________________________\n",
            " Layer (type)                Output Shape              Param #   \n",
            "=================================================================\n",
            " Conv1 (Conv2D)              (None, 32, 32, 64)        4864      \n",
            "                                                                 \n",
            " MaxPool1 (MaxPooling2D)     (None, 15, 15, 64)        0         \n",
            "                                                                 \n",
            " LRN1 (LocalResponseNormali  (None, 15, 15, 64)        0         \n",
            " zation)                                                         \n",
            "                                                                 \n",
            " Conv2 (Conv2D)              (None, 15, 15, 64)        102464    \n",
            "                                                                 \n",
            " LRN2 (LocalResponseNormali  (None, 15, 15, 64)        0         \n",
            " zation)                                                         \n",
            "                                                                 \n",
            " MaxPool2 (MaxPooling2D)     (None, 7, 7, 64)          0         \n",
            "                                                                 \n",
            " Local3 (Conv2D)             (None, 7, 7, 64)          36928     \n",
            "                                                                 \n",
            " Local4 (Conv2D)             (None, 7, 7, 32)          18464     \n",
            "                                                                 \n",
            " Flatten (Flatten)           (None, 1568)              0         \n",
            "                                                                 \n",
            " FC10 (Dense)                (None, 10)                15690     \n",
            "                                                                 \n",
            "=================================================================\n",
            "Total params: 178410 (696.91 KB)\n",
            "Trainable params: 178410 (696.91 KB)\n",
            "Non-trainable params: 0 (0.00 Byte)\n",
            "_________________________________________________________________\n"
          ]
        }
      ],
      "source": [
        "from alexnet_cifar10 import AlexNet\n",
        "\n",
        "model = AlexNet()\n",
        "model.summary()"
      ]
    },
    {
      "cell_type": "code",
      "execution_count": null,
      "metadata": {
        "id": null
      },
      "outputs": [],
      "source": [
        "%%capture --no-stderr\n",
        "\n",
        "from cifar10_keras import CIFAR10\n",
        "\n",
        "# This will download the CIFAR-10 dataset via the Keras library, which writes to\n",
        "# stdout, so we silence it above to avoid extraneous output.\n",
        "cifar10_data = CIFAR10()"
      ]
    },
    {
      "cell_type": "code",
      "execution_count": null,
      "metadata": {
        "id": null
      },
      "outputs": [],
      "source": [
        "from tensorflow import keras\n",
        "\n",
        "# Compile the model with optimizer and loss function.\n",
        "model.compile(optimizer=keras.optimizers.Adam(learning_rate=0.001),\n",
        "              loss=keras.losses.CategoricalCrossentropy(),\n",
        "              metrics=[keras.metrics.CategoricalAccuracy()])"
      ]
    },
    {
      "cell_type": "code",
      "execution_count": null,
      "metadata": {
        "id": null
      },
      "outputs": [
        {
          "name": "stdout",
          "output_type": "stream",
          "text": [
            "Epoch 1/20\n",
            "1563/1563 [==============================] - 349s 223ms/step - loss: 1.5501 - accuracy: 0.4335\n",
            "Epoch 2/20\n",
            "1563/1563 [==============================] - 346s 222ms/step - loss: 1.1709 - accuracy: 0.5857\n",
            "Epoch 3/20\n",
            "1563/1563 [==============================] - 346s 221ms/step - loss: 1.0080 - accuracy: 0.6451\n",
            "Epoch 4/20\n",
            "1563/1563 [==============================] - 354s 226ms/step - loss: 0.9025 - accuracy: 0.6832\n",
            "Epoch 5/20\n",
            "1563/1563 [==============================] - 347s 222ms/step - loss: 0.8180 - accuracy: 0.7159\n",
            "Epoch 6/20\n",
            "1563/1563 [==============================] - 342s 219ms/step - loss: 0.7575 - accuracy: 0.7365\n",
            "Epoch 7/20\n",
            "1563/1563 [==============================] - 342s 219ms/step - loss: 0.7000 - accuracy: 0.7549\n",
            "Epoch 8/20\n",
            "1563/1563 [==============================] - 344s 220ms/step - loss: 0.6443 - accuracy: 0.7763\n",
            "Epoch 9/20\n",
            "1563/1563 [==============================] - 345s 221ms/step - loss: 0.6026 - accuracy: 0.7881\n",
            "Epoch 10/20\n",
            "1563/1563 [==============================] - 340s 218ms/step - loss: 0.5643 - accuracy: 0.8016\n",
            "Epoch 11/20\n",
            "1563/1563 [==============================] - 340s 217ms/step - loss: 0.5225 - accuracy: 0.8177\n",
            "Epoch 12/20\n",
            "1563/1563 [==============================] - 341s 218ms/step - loss: 0.4901 - accuracy: 0.8246\n",
            "Epoch 13/20\n",
            "1563/1563 [==============================] - 353s 226ms/step - loss: 0.4540 - accuracy: 0.8386\n",
            "Epoch 14/20\n",
            "1563/1563 [==============================] - 348s 223ms/step - loss: 0.4298 - accuracy: 0.8475\n",
            "Epoch 15/20\n",
            "1563/1563 [==============================] - 349s 223ms/step - loss: 0.3986 - accuracy: 0.8566\n",
            "Epoch 16/20\n",
            "1563/1563 [==============================] - 338s 217ms/step - loss: 0.3799 - accuracy: 0.8630\n",
            "Epoch 17/20\n",
            "1563/1563 [==============================] - 336s 215ms/step - loss: 0.3474 - accuracy: 0.8746\n",
            "Epoch 18/20\n",
            "1563/1563 [==============================] - 345s 221ms/step - loss: 0.3374 - accuracy: 0.8790\n",
            "Epoch 19/20\n",
            "1563/1563 [==============================] - 350s 224ms/step - loss: 0.3093 - accuracy: 0.8881\n",
            "Epoch 20/20\n",
            "1563/1563 [==============================] - 340s 217ms/step - loss: 0.2940 - accuracy: 0.8937\n"
          ]
        },
        {
          "data": {
            "text/plain": [
              "<keras.callbacks.History at 0x7fb8c04226d0>"
            ]
          },
          "execution_count": null,
          "metadata": {},
          "output_type": "execute_result"
        }
      ],
      "source": [
        "# Train the model\n",
        "model.fit(cifar10_data.x_train_scale_0_1(),\n",
        "          cifar10_data.y_train_categorical(),\n",
        "          epochs=20)"
      ]
    },
    {
      "cell_type": "code",
      "execution_count": null,
      "metadata": {
        "id": null
      },
      "outputs": [
        {
          "name": "stdout",
          "output_type": "stream",
          "text": [
            "313/313 [==============================] - 19s 60ms/step - loss: 1.2247 - accuracy: 0.7003\n"
          ]
        },
        {
          "data": {
            "text/plain": [
              "[1.2246522903442383, 0.7002999782562256]"
            ]
          },
          "execution_count": null,
          "metadata": {},
          "output_type": "execute_result"
        }
      ],
      "source": [
        "# Evaluate the model\n",
        "model.evaluate(cifar10_data.x_test_scale_0_1(),\n",
        "               cifar10_data.y_test_categorical())"
      ]
    }
  ],
  "metadata": {
    "accelerator": "GPU",
    "gpuClass": "standard",
    "kernelspec": {
      "display_name": "Python 3",
      "name": "python3"
    },
    "language_info": {
      "name": "python"
    }
  },
  "nbformat": 4,
  "nbformat_minor": 0
}