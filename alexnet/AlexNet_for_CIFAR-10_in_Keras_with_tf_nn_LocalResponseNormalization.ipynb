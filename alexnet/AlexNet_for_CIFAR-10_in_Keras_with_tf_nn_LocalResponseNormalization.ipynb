{
  "cells": [
    {
      "cell_type": "code",
      "execution_count": null,
      "metadata": {
        "id": "4zLuzkUgnLrK"
      },
      "outputs": [],
      "source": [
        "# Copyright 2022 Google LLC\n",
        "#\n",
        "# Licensed under the Apache License, Version 2.0 (the \"License\");\n",
        "# you may not use this file except in compliance with the License.\n",
        "# You may obtain a copy of the License at\n",
        "#\n",
        "#      http://www.apache.org/licenses/LICENSE-2.0\n",
        "#\n",
        "# Unless required by applicable law or agreed to in writing, software\n",
        "# distributed under the License is distributed on an \"AS IS\" BASIS,\n",
        "# WITHOUT WARRANTIES OR CONDITIONS OF ANY KIND, either express or implied.\n",
        "# See the License for the specific language governing permissions and\n",
        "# limitations under the License."
      ]
    },
    {
      "cell_type": "code",
      "execution_count": null,
      "metadata": {
        "id": "9szn5TsGnVCT"
      },
      "outputs": [],
      "source": [
        "import numpy as np\n",
        "import tensorflow as tf\n",
        "from tensorflow import keras\n",
        "from keras import Input, Sequential\n",
        "from keras.layers import Conv2D, Dense, Dropout, Flatten, MaxPool2D\n",
        "from matplotlib import pyplot as plt"
      ]
    },
    {
      "cell_type": "code",
      "execution_count": null,
      "metadata": {
        "id": "ji9t1O8sU3Xb"
      },
      "outputs": [],
      "source": [
        "!curl -sO https://raw.githubusercontent.com/mbrukman/reimplementing-ml-papers/main/alexnet/local_response_normalization.py\n",
        "\n",
        "from local_response_normalization import LocalResponseNormalization"
      ]
    },
    {
      "cell_type": "code",
      "execution_count": null,
      "metadata": {
        "colab": {
          "base_uri": "https://localhost:8080/"
        },
        "id": "nmuynEz5nw_x",
        "outputId": "905caf0c-cbb1-466e-d51c-7ee899ebc120"
      },
      "outputs": [
        {
          "name": "stdout",
          "output_type": "stream",
          "text": [
            "Downloading data from https://www.cs.toronto.edu/~kriz/cifar-10-python.tar.gz\n",
            "170500096/170498071 [==============================] - 2s 0us/step\n",
            "170508288/170498071 [==============================] - 2s 0us/step\n"
          ]
        }
      ],
      "source": [
        "# Load the CIFAR-10 dataset.\n",
        "(x_train_raw, y_train_raw), (x_test_raw, y_test_raw) = keras.datasets.cifar10.load_data();"
      ]
    },
    {
      "cell_type": "code",
      "execution_count": null,
      "metadata": {
        "id": "RKByh8Ber805"
      },
      "outputs": [],
      "source": [
        "num_classes = 10\n",
        "\n",
        "# Scale train and test inputs by converting them from range of [0, 255] to [0.0, 1.0]\n",
        "x_train = x_train_raw.astype('float32') / 255.0\n",
        "x_test = x_test_raw.astype('float32') / 255.0\n",
        "\n",
        "# Convert the output to categorical one-hot encoding to match the output of our\n",
        "# network.\n",
        "y_train = keras.utils.to_categorical(y_train_raw, num_classes)\n",
        "y_test = keras.utils.to_categorical(y_test_raw, num_classes)"
      ]
    },
    {
      "cell_type": "code",
      "execution_count": null,
      "metadata": {
        "colab": {
          "base_uri": "https://localhost:8080/"
        },
        "id": "8WbwCWBentil",
        "outputId": "66c9003f-dd19-46c7-b431-9d1c080c60cf"
      },
      "outputs": [
        {
          "name": "stdout",
          "output_type": "stream",
          "text": [
            "Model: \"CIFAR-10-TF-NN-LRN\"\n",
            "_________________________________________________________________\n",
            " Layer (type)                Output Shape              Param #   \n",
            "=================================================================\n",
            " Conv1 (Conv2D)              (None, 32, 32, 64)        4864      \n",
            "                                                                 \n",
            " MaxPool1 (MaxPooling2D)     (None, 15, 15, 64)        0         \n",
            "                                                                 \n",
            " LRN (LocalResponseNormaliza  (None, 15, 15, 64)       0         \n",
            " tion)                                                           \n",
            "                                                                 \n",
            " Conv2 (Conv2D)              (None, 15, 15, 64)        102464    \n",
            "                                                                 \n",
            " LRN2 (LocalResponseNormaliz  (None, 15, 15, 64)       0         \n",
            " ation)                                                          \n",
            "                                                                 \n",
            " MaxPool2 (MaxPooling2D)     (None, 7, 7, 64)          0         \n",
            "                                                                 \n",
            " Local3 (Conv2D)             (None, 7, 7, 64)          36928     \n",
            "                                                                 \n",
            " Local4 (Conv2D)             (None, 7, 7, 32)          18464     \n",
            "                                                                 \n",
            " flatten_1 (Flatten)         (None, 1568)              0         \n",
            "                                                                 \n",
            " FC10 (Dense)                (None, 10)                15690     \n",
            "                                                                 \n",
            "=================================================================\n",
            "Total params: 178,410\n",
            "Trainable params: 178,410\n",
            "Non-trainable params: 0\n",
            "_________________________________________________________________\n"
          ]
        }
      ],
      "source": [
        "# Define the model architecture, this comes from the the Google Code project\n",
        "# mentioned in the paper \u2014 https://code.google.com/p/cuda-convnet/ \u2014\n",
        "# specifically, the file `examples-layers/layers-conv-local-11pct.cfg`.\n",
        "model = Sequential([\n",
        "    Input(shape=(32, 32, 3)),\n",
        "    Conv2D(filters=64, kernel_size=5, strides=1, padding='same', activation='relu', name='Conv1'),\n",
        "    MaxPool2D(pool_size=3, strides=2, padding='valid', name='MaxPool1'),\n",
        "    LocalResponseNormalization(name='LRN'),\n",
        "    Conv2D(filters=64, kernel_size=(5, 5), padding='same', activation='relu', name='Conv2'),\n",
        "    LocalResponseNormalization(name='LRN2'),\n",
        "    MaxPool2D(pool_size=3, strides=2, padding='valid', name='MaxPool2'),\n",
        "    Conv2D(filters=64, kernel_size=3, padding='same', activation='relu', name='Local3'),\n",
        "    Conv2D(filters=32, kernel_size=3, padding='same', activation='relu', name='Local4'),\n",
        "    Flatten(),\n",
        "    Dense(10, activation='softmax', name=\"FC10\"),\n",
        "], name=\"CIFAR-10-TF-NN-LRN\")\n",
        "\n",
        "model.summary()"
      ]
    },
    {
      "cell_type": "code",
      "execution_count": null,
      "metadata": {
        "id": "zqDedv8RvIHE"
      },
      "outputs": [],
      "source": [
        "# Compile the model with optimizer and loss function.\n",
        "opt = keras.optimizers.Adam(learning_rate=0.001)\n",
        "loss_fn = keras.losses.CategoricalCrossentropy()\n",
        "model.compile(optimizer=opt, loss=loss_fn, metrics=['accuracy'])"
      ]
    },
    {
      "cell_type": "code",
      "execution_count": null,
      "metadata": {
        "colab": {
          "base_uri": "https://localhost:8080/"
        },
        "id": "nprurN1dvK5-",
        "outputId": "517377e0-94ed-4b09-d750-b183feaed83c"
      },
      "outputs": [
        {
          "name": "stdout",
          "output_type": "stream",
          "text": [
            "Epoch 1/20\n",
            "1563/1563 [==============================] - 349s 223ms/step - loss: 1.5501 - accuracy: 0.4335\n",
            "Epoch 2/20\n",
            "1563/1563 [==============================] - 346s 222ms/step - loss: 1.1709 - accuracy: 0.5857\n",
            "Epoch 3/20\n",
            "1563/1563 [==============================] - 346s 221ms/step - loss: 1.0080 - accuracy: 0.6451\n",
            "Epoch 4/20\n",
            "1563/1563 [==============================] - 354s 226ms/step - loss: 0.9025 - accuracy: 0.6832\n",
            "Epoch 5/20\n",
            "1563/1563 [==============================] - 347s 222ms/step - loss: 0.8180 - accuracy: 0.7159\n",
            "Epoch 6/20\n",
            "1563/1563 [==============================] - 342s 219ms/step - loss: 0.7575 - accuracy: 0.7365\n",
            "Epoch 7/20\n",
            "1563/1563 [==============================] - 342s 219ms/step - loss: 0.7000 - accuracy: 0.7549\n",
            "Epoch 8/20\n",
            "1563/1563 [==============================] - 344s 220ms/step - loss: 0.6443 - accuracy: 0.7763\n",
            "Epoch 9/20\n",
            "1563/1563 [==============================] - 345s 221ms/step - loss: 0.6026 - accuracy: 0.7881\n",
            "Epoch 10/20\n",
            "1563/1563 [==============================] - 340s 218ms/step - loss: 0.5643 - accuracy: 0.8016\n",
            "Epoch 11/20\n",
            "1563/1563 [==============================] - 340s 217ms/step - loss: 0.5225 - accuracy: 0.8177\n",
            "Epoch 12/20\n",
            "1563/1563 [==============================] - 341s 218ms/step - loss: 0.4901 - accuracy: 0.8246\n",
            "Epoch 13/20\n",
            "1563/1563 [==============================] - 353s 226ms/step - loss: 0.4540 - accuracy: 0.8386\n",
            "Epoch 14/20\n",
            "1563/1563 [==============================] - 348s 223ms/step - loss: 0.4298 - accuracy: 0.8475\n",
            "Epoch 15/20\n",
            "1563/1563 [==============================] - 349s 223ms/step - loss: 0.3986 - accuracy: 0.8566\n",
            "Epoch 16/20\n",
            "1563/1563 [==============================] - 338s 217ms/step - loss: 0.3799 - accuracy: 0.8630\n",
            "Epoch 17/20\n",
            "1563/1563 [==============================] - 336s 215ms/step - loss: 0.3474 - accuracy: 0.8746\n",
            "Epoch 18/20\n",
            "1563/1563 [==============================] - 345s 221ms/step - loss: 0.3374 - accuracy: 0.8790\n",
            "Epoch 19/20\n",
            "1563/1563 [==============================] - 350s 224ms/step - loss: 0.3093 - accuracy: 0.8881\n",
            "Epoch 20/20\n",
            "1563/1563 [==============================] - 340s 217ms/step - loss: 0.2940 - accuracy: 0.8937\n"
          ]
        },
        {
          "data": {
            "text/plain": [
              "<keras.callbacks.History at 0x7fb8c04226d0>"
            ]
          },
          "execution_count": null,
          "metadata": {},
          "output_type": "execute_result"
        }
      ],
      "source": [
        "# Train the model\n",
        "model.fit(x_train, y_train, epochs=20)"
      ]
    },
    {
      "cell_type": "code",
      "execution_count": null,
      "metadata": {
        "colab": {
          "base_uri": "https://localhost:8080/"
        },
        "id": "GXtV8JJbvMlj",
        "outputId": "77fcf827-6247-4ca6-ddbe-930b6548a43d"
      },
      "outputs": [
        {
          "name": "stdout",
          "output_type": "stream",
          "text": [
            "313/313 [==============================] - 19s 60ms/step - loss: 1.2247 - accuracy: 0.7003\n"
          ]
        },
        {
          "data": {
            "text/plain": [
              "[1.2246522903442383, 0.7002999782562256]"
            ]
          },
          "execution_count": null,
          "metadata": {},
          "output_type": "execute_result"
        }
      ],
      "source": [
        "# Evaluate the model\n",
        "model.evaluate(x_test, y_test)"
      ]
    }
  ],
  "metadata": {
    "accelerator": "TPU",
    "colab": {
      "collapsed_sections": [],
      "provenance": []
    },
    "kernelspec": {
      "display_name": "Python 3",
      "name": "python3"
    },
    "language_info": {
      "name": "python"
    }
  },
  "nbformat": 4,
  "nbformat_minor": 0
}