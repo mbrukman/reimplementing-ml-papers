{
  "cells": [
    {
      "cell_type": "code",
      "execution_count": null,
      "metadata": {
        "id": "lVLBdJnv8SoF"
      },
      "outputs": [],
      "source": [
        "# Copyright 2022 Google LLC\n",
        "#\n",
        "# Licensed under the Apache License, Version 2.0 (the \"License\");\n",
        "# you may not use this file except in compliance with the License.\n",
        "# You may obtain a copy of the License at\n",
        "#\n",
        "#      http://www.apache.org/licenses/LICENSE-2.0\n",
        "#\n",
        "# Unless required by applicable law or agreed to in writing, software\n",
        "# distributed under the License is distributed on an \"AS IS\" BASIS,\n",
        "# WITHOUT WARRANTIES OR CONDITIONS OF ANY KIND, either express or implied.\n",
        "# See the License for the specific language governing permissions and\n",
        "# limitations under the License."
      ]
    },
    {
      "cell_type": "markdown",
      "source": [
        "[![View on GitHub][github-badge]][github-basic] [![Open In Colab][colab-badge]][colab-basic] [![Open in Binder][binder-badge]][binder-basic]\n",
        "\n",
        "[github-badge]: https://img.shields.io/badge/View-on%20GitHub-blue?logo=GitHub\n",
        "[colab-badge]: https://colab.research.google.com/assets/colab-badge.svg\n",
        "[binder-badge]: https://static.mybinder.org/badge_logo.svg\n",
        "\n",
        "[github-basic]: Basic_AlexNet_in_Keras.ipynb\n",
        "[colab-basic]: https://colab.research.google.com/github/mbrukman/reimplementing-ml-papers/blob/main/alexnet/Basic_AlexNet_in_Keras.ipynb\n",
        "[binder-basic]: https://mybinder.org/v2/gh/mbrukman/reimplementing-ml-papers/main?filepath=alexnet/Basic_AlexNet_in_Keras.ipynb"
      ],
      "metadata": {
        "id": "XzSflOuiSkLr"
      }
    },
    {
      "cell_type": "code",
      "execution_count": null,
      "metadata": {
        "id": "3uryURdO8Uws"
      },
      "outputs": [],
      "source": [
        "import numpy as np\n",
        "import tensorflow as tf\n",
        "from tensorflow import keras\n",
        "from keras import Input, Sequential\n",
        "from keras.layers import Conv2D, Dense, Dropout, Flatten, MaxPool2D\n",
        "from matplotlib import pyplot as plt"
      ]
    },
    {
      "cell_type": "markdown",
      "metadata": {
        "id": "pQIxFUn25W8J"
      },
      "source": [
        "This simple implementation does not split the data across 2 GPUs as described in the original paper for simplicity of implementation. It also does not include the custom response normalization layers (see the `TODO`s in the model below for where they should appear)."
      ]
    },
    {
      "cell_type": "code",
      "execution_count": null,
      "metadata": {
        "colab": {
          "base_uri": "https://localhost:8080/"
        },
        "id": "JswAlt_l8qBC",
        "outputId": "3c1fe12b-5753-45ec-bdd7-fcba9a48c0de"
      },
      "outputs": [
        {
          "name": "stdout",
          "output_type": "stream",
          "text": [
            "Model: \"AlexNet\"\n",
            "_________________________________________________________________\n",
            " Layer (type)                Output Shape              Param #   \n",
            "=================================================================\n",
            " Conv1 (Conv2D)              (None, 55, 55, 96)        34944     \n",
            "                                                                 \n",
            " MaxPool1 (MaxPooling2D)     (None, 27, 27, 96)        0         \n",
            "                                                                 \n",
            " Conv2 (Conv2D)              (None, 27, 27, 256)       614656    \n",
            "                                                                 \n",
            " MaxPool2 (MaxPooling2D)     (None, 13, 13, 256)       0         \n",
            "                                                                 \n",
            " Conv3 (Conv2D)              (None, 13, 13, 384)       885120    \n",
            "                                                                 \n",
            " Conv4 (Conv2D)              (None, 13, 13, 384)       1327488   \n",
            "                                                                 \n",
            " Conv5 (Conv2D)              (None, 13, 13, 256)       884992    \n",
            "                                                                 \n",
            " MaxPool3 (MaxPooling2D)     (None, 6, 6, 256)         0         \n",
            "                                                                 \n",
            " Flatten (Flatten)           (None, 9216)              0         \n",
            "                                                                 \n",
            " Dense1 (Dense)              (None, 4096)              37752832  \n",
            "                                                                 \n",
            " Dropout1 (Dropout)          (None, 4096)              0         \n",
            "                                                                 \n",
            " Dense2 (Dense)              (None, 4096)              16781312  \n",
            "                                                                 \n",
            " Dropout2 (Dropout)          (None, 4096)              0         \n",
            "                                                                 \n",
            " Output (Dense)              (None, 1000)              4097000   \n",
            "                                                                 \n",
            "=================================================================\n",
            "Total params: 62,378,344\n",
            "Trainable params: 62,378,344\n",
            "Non-trainable params: 0\n",
            "_________________________________________________________________\n"
          ]
        }
      ],
      "source": [
        "# Define the model architecture.\n",
        "model = Sequential([\n",
        "    Input(shape=(227, 227, 3)),\n",
        "    Conv2D(filters=96, kernel_size=(11, 11), strides=(4, 4), padding='valid', activation='relu', name='Conv1'),\n",
        "    # TODO: add response normalization layer 1 here.\n",
        "    MaxPool2D(pool_size=(3, 3), strides=(2, 2), padding='valid', name='MaxPool1'),\n",
        "    Conv2D(filters=256, kernel_size=(5, 5), padding='same', activation='relu', name='Conv2'),\n",
        "    # TODO: add response normalization layer 2 here.\n",
        "    MaxPool2D(pool_size=(3, 3), strides=(2, 2), padding='valid', name='MaxPool2'),\n",
        "    Conv2D(filters=384, kernel_size=(3, 3), padding='same', activation='relu', name='Conv3'),\n",
        "    Conv2D(filters=384, kernel_size=(3, 3), padding='same', activation='relu', name='Conv4'),\n",
        "    Conv2D(filters=256, kernel_size=(3, 3), padding='same', activation='relu', name='Conv5'),\n",
        "    MaxPool2D(pool_size=(3, 3), strides=(2, 2), padding='valid', name='MaxPool3'),\n",
        "    Flatten(name=\"Flatten\"),\n",
        "    Dense(4096, activation='relu', name=\"Dense1\"),\n",
        "    Dropout(0.5, name=\"Dropout1\"),\n",
        "    Dense(4096, activation='relu', name=\"Dense2\"),\n",
        "    Dropout(0.5, name=\"Dropout2\"),\n",
        "    Dense(1000, activation='softmax', name=\"Output\"),\n",
        "], name=\"AlexNet\")\n",
        "\n",
        "model.summary()"
      ]
    }
  ],
  "metadata": {
    "colab": {
      "collapsed_sections": [],
      "name": "Basic AlexNet in Keras",
      "provenance": []
    },
    "kernelspec": {
      "display_name": "Python 3",
      "name": "python3"
    },
    "language_info": {
      "name": "python"
    }
  },
  "nbformat": 4,
  "nbformat_minor": 0
}