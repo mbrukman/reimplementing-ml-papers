{
  "cells": [
    {
      "cell_type": "code",
      "execution_count": null,
      "metadata": {
        "id": null
      },
      "outputs": [],
      "source": [
        "# Copyright 2022 Google LLC\n",
        "#\n",
        "# Licensed under the Apache License, Version 2.0 (the \"License\");\n",
        "# you may not use this file except in compliance with the License.\n",
        "# You may obtain a copy of the License at\n",
        "#\n",
        "#      http://www.apache.org/licenses/LICENSE-2.0\n",
        "#\n",
        "# Unless required by applicable law or agreed to in writing, software\n",
        "# distributed under the License is distributed on an \"AS IS\" BASIS,\n",
        "# WITHOUT WARRANTIES OR CONDITIONS OF ANY KIND, either express or implied.\n",
        "# See the License for the specific language governing permissions and\n",
        "# limitations under the License."
      ]
    },
    {
      "cell_type": "markdown",
      "metadata": {
        "id": null
      },
      "source": [
        "[![View on GitHub][github-badge]][github-basic] [![Open In Colab][colab-badge]][colab-basic] [![Open in Binder][binder-badge]][binder-basic]\n",
        "\n",
        "[github-badge]: https://img.shields.io/badge/View-on%20GitHub-blue?logo=GitHub\n",
        "[colab-badge]: https://colab.research.google.com/assets/colab-badge.svg\n",
        "[binder-badge]: https://static.mybinder.org/badge_logo.svg\n",
        "\n",
        "[github-basic]: https://github.com/mbrukman/reimplementing-ml-papers/blob/main/alexnet/Basic_AlexNet_in_Keras.ipynb\n",
        "[colab-basic]: https://colab.research.google.com/github/mbrukman/reimplementing-ml-papers/blob/main/alexnet/Basic_AlexNet_in_Keras.ipynb\n",
        "[binder-basic]: https://mybinder.org/v2/gh/mbrukman/reimplementing-ml-papers/main?filepath=alexnet/Basic_AlexNet_in_Keras.ipynb"
      ]
    },
    {
      "cell_type": "code",
      "execution_count": null,
      "metadata": {
        "id": null
      },
      "outputs": [],
      "source": [
        "%%bash\n",
        "\n",
        "for module in alexnet_imagenet local_response_normalization ; do\n",
        "  if ! [ -f \"${module}.py\" ]; then\n",
        "    curl -sO \"https://raw.githubusercontent.com/mbrukman/reimplementing-ml-papers/main/alexnet/${module}.py\"\n",
        "  fi\n",
        "done"
      ]
    },
    {
      "cell_type": "code",
      "execution_count": null,
      "metadata": {
        "id": null
      },
      "outputs": [
        {
          "name": "stdout",
          "output_type": "stream",
          "text": [
            "Model: \"AlexNet\"\n",
            "_________________________________________________________________\n",
            " Layer (type)                Output Shape              Param #   \n",
            "=================================================================\n",
            " Conv1 (Conv2D)              (None, 55, 55, 96)        34944     \n",
            "                                                                 \n",
            " LRN1 (LocalResponseNormaliz  (None, 55, 55, 96)       0         \n",
            " ation)                                                          \n",
            "                                                                 \n",
            " MaxPool1 (MaxPooling2D)     (None, 27, 27, 96)        0         \n",
            "                                                                 \n",
            " Conv2 (Conv2D)              (None, 27, 27, 256)       614656    \n",
            "                                                                 \n",
            " LRN2 (LocalResponseNormaliz  (None, 27, 27, 256)      0         \n",
            " ation)                                                          \n",
            "                                                                 \n",
            " MaxPool2 (MaxPooling2D)     (None, 13, 13, 256)       0         \n",
            "                                                                 \n",
            " Conv3 (Conv2D)              (None, 13, 13, 384)       885120    \n",
            "                                                                 \n",
            " Conv4 (Conv2D)              (None, 13, 13, 384)       1327488   \n",
            "                                                                 \n",
            " Conv5 (Conv2D)              (None, 13, 13, 256)       884992    \n",
            "                                                                 \n",
            " MaxPool3 (MaxPooling2D)     (None, 6, 6, 256)         0         \n",
            "                                                                 \n",
            " Flatten (Flatten)           (None, 9216)              0         \n",
            "                                                                 \n",
            " Dense1 (Dense)              (None, 4096)              37752832  \n",
            "                                                                 \n",
            " Dropout1 (Dropout)          (None, 4096)              0         \n",
            "                                                                 \n",
            " Dense2 (Dense)              (None, 4096)              16781312  \n",
            "                                                                 \n",
            " Dropout2 (Dropout)          (None, 4096)              0         \n",
            "                                                                 \n",
            " Output (Dense)              (None, 1000)              4097000   \n",
            "                                                                 \n",
            "=================================================================\n",
            "Total params: 62,378,344\n",
            "Trainable params: 62,378,344\n",
            "Non-trainable params: 0\n",
            "_________________________________________________________________\n"
          ]
        }
      ],
      "source": [
        "import alexnet_imagenet\n",
        "\n",
        "model = alexnet_imagenet.AlexNet()\n",
        "model.summary()"
      ]
    }
  ],
  "metadata": {
    "colab": {
      "name": "Basic AlexNet in Keras"
    },
    "kernelspec": {
      "display_name": "Python 3",
      "name": "python3"
    },
    "language_info": {
      "name": "python"
    }
  },
  "nbformat": 4,
  "nbformat_minor": 0
}