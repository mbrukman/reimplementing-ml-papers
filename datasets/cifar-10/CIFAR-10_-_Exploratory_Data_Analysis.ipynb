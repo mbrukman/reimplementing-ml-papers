{
  "cells": [
    {
      "cell_type": "code",
      "execution_count": null,
      "metadata": {
        "id": null
      },
      "outputs": [],
      "source": [
        "# Copyright 2022 Google LLC\n",
        "#\n",
        "# Licensed under the Apache License, Version 2.0 (the \"License\");\n",
        "# you may not use this file except in compliance with the License.\n",
        "# You may obtain a copy of the License at\n",
        "#\n",
        "#      http://www.apache.org/licenses/LICENSE-2.0\n",
        "#\n",
        "# Unless required by applicable law or agreed to in writing, software\n",
        "# distributed under the License is distributed on an \"AS IS\" BASIS,\n",
        "# WITHOUT WARRANTIES OR CONDITIONS OF ANY KIND, either express or implied.\n",
        "# See the License for the specific language governing permissions and\n",
        "# limitations under the License."
      ]
    },
    {
      "cell_type": "markdown",
      "metadata": {
        "id": null
      },
      "source": [
        "[![View on GitHub][github-badge]][github-eda] [![Open In Colab][colab-badge]][colab-eda] [![Open in Binder][binder-badge]][binder-eda]\n",
        "\n",
        "[github-badge]: https://img.shields.io/badge/View-on%20GitHub-blue?logo=GitHub\n",
        "[colab-badge]: https://colab.research.google.com/assets/colab-badge.svg\n",
        "[binder-badge]: https://static.mybinder.org/badge_logo.svg\n",
        "\n",
        "[github-eda]: https://github.com/mbrukman/reimplementing-ml-papers/blob/main/datasets/cifar-10/CIFAR-10_-_Exploratory_Data_Analysis.ipynb\n",
        "[colab-eda]: https://colab.research.google.com/github/mbrukman/reimplementing-ml-papers/blob/main/datasets/cifar-10/CIFAR-10_-_Exploratory_Data_Analysis.ipynb\n",
        "[binder-eda]: https://mybinder.org/v2/gh/mbrukman/reimplementing-ml-papers/main?filepath=datasets/cifar-10/CIFAR-10_-_Exploratory_Data_Analysis.ipynb"
      ]
    },
    {
      "cell_type": "code",
      "execution_count": null,
      "metadata": {
        "id": null
      },
      "outputs": [],
      "source": [
        "from tensorflow import keras\n",
        "from matplotlib import pyplot as plt"
      ]
    },
    {
      "cell_type": "code",
      "execution_count": null,
      "metadata": {
        "id": null
      },
      "outputs": [],
      "source": [
        "# Load the CIFAR-10 dataset.\n",
        "(x_train_raw, y_train_raw), (x_test_raw, y_test_raw) = keras.datasets.cifar10.load_data();"
      ]
    },
    {
      "cell_type": "code",
      "execution_count": null,
      "metadata": {
        "id": null
      },
      "outputs": [],
      "source": [
        "# Examine the dataset shape.\n",
        "print(\"Raw data:\")\n",
        "print(f\"Train x: {x_train_raw.shape}\")\n",
        "print(f\"      y: {y_train_raw.shape}\")\n",
        "print(f\"Test  x: {x_test_raw.shape}\")\n",
        "print(f\"      y: {y_test_raw.shape}\")"
      ]
    },
    {
      "cell_type": "code",
      "execution_count": null,
      "metadata": {
        "id": null
      },
      "outputs": [],
      "source": [
        "# Let's see what some of the training images and raw input data look like.\n",
        "fig = plt.figure(figsize=(8, 8))\n",
        "for i in range(25):\n",
        "    ax = fig.add_subplot(5, 5, i + 1)\n",
        "    ax.set_title(y_train_raw[i + 1][0])\n",
        "    plt.imshow(x_train_raw[i, :, :], cmap='Greys')\n",
        "\n",
        "plt.subplots_adjust(wspace=0.75, hspace=0.75)\n",
        "plt.show()"
      ]
    },
    {
      "cell_type": "code",
      "execution_count": null,
      "metadata": {
        "id": null
      },
      "outputs": [],
      "source": [
        "print(\"Raw x train:\\n\", x_train_raw[0, :])"
      ]
    },
    {
      "cell_type": "code",
      "execution_count": null,
      "metadata": {
        "id": null
      },
      "outputs": [],
      "source": [
        "print(f\"X train raw stats: min={x_train_raw.min()}, max={x_train_raw.max()}\")\n",
        "print(f\"X test  raw stats: min={x_test_raw.min()}, max={x_test_raw.max()}\")"
      ]
    },
    {
      "cell_type": "code",
      "execution_count": null,
      "metadata": {
        "id": null
      },
      "outputs": [],
      "source": [
        "num_classes = 10\n",
        "\n",
        "# Scale train and test inputs by converting them from range of [0, 255] to [0.0, 1.0]\n",
        "x_train = x_train_raw.astype('float32') / 255.0\n",
        "x_test = x_test_raw.astype('float32') / 255.0\n",
        "\n",
        "# Convert the output to categorical one-hot encoding to match the output of our\n",
        "# network.\n",
        "y_train = keras.utils.to_categorical(y_train_raw, num_classes)\n",
        "y_test = keras.utils.to_categorical(y_test_raw, num_classes)"
      ]
    },
    {
      "cell_type": "code",
      "execution_count": null,
      "metadata": {
        "id": null
      },
      "outputs": [],
      "source": [
        "print(\"Processed x train:\\n\", x_train[0, :])"
      ]
    },
    {
      "cell_type": "code",
      "execution_count": null,
      "metadata": {
        "id": null
      },
      "outputs": [],
      "source": [
        "print(\"Raw y train:\", y_train_raw[0])\n",
        "print(\"Processed y train:\", y_train[0])"
      ]
    }
  ],
  "metadata": {
    "accelerator": "TPU",
    "kernelspec": {
      "display_name": "Python 3",
      "name": "python3"
    },
    "language_info": {
      "name": "python"
    }
  },
  "nbformat": 4,
  "nbformat_minor": 0
}