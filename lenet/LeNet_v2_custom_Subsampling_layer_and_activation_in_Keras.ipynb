{
  "cells": [
    {
      "cell_type": "code",
      "execution_count": null,
      "metadata": {
        "id": "-52CicmjShjz"
      },
      "outputs": [],
      "source": [
        "# Copyright 2022 Google LLC\n",
        "#\n",
        "# Licensed under the Apache License, Version 2.0 (the \"License\");\n",
        "# you may not use this file except in compliance with the License.\n",
        "# You may obtain a copy of the License at\n",
        "#\n",
        "#      http://www.apache.org/licenses/LICENSE-2.0\n",
        "#\n",
        "# Unless required by applicable law or agreed to in writing, software\n",
        "# distributed under the License is distributed on an \"AS IS\" BASIS,\n",
        "# WITHOUT WARRANTIES OR CONDITIONS OF ANY KIND, either express or implied.\n",
        "# See the License for the specific language governing permissions and\n",
        "# limitations under the License."
      ]
    },
    {
      "cell_type": "code",
      "execution_count": null,
      "metadata": {
        "id": "OfRXb7AXBNoB"
      },
      "outputs": [],
      "source": [
        "import numpy as np\n",
        "\n",
        "from tensorflow import keras\n",
        "from keras import Input, Sequential\n",
        "from keras.layers import AveragePooling2D, Conv2D, Dense, Flatten"
      ]
    },
    {
      "cell_type": "code",
      "execution_count": null,
      "metadata": {
        "id": "LdXVAChTZu20"
      },
      "outputs": [],
      "source": [
        "# Download and import custom Subsampling layer.\n",
        "!curl -sO https://raw.githubusercontent.com/mbrukman/reimplementing-ml-papers/main/lenet/subsampling.py\n",
        "from subsampling import Subsampling"
      ]
    },
    {
      "cell_type": "code",
      "execution_count": null,
      "metadata": {
        "id": "rEBeAvrWBQCU"
      },
      "outputs": [],
      "source": [
        "# Load the MNIST dataset.\n",
        "(x_train_raw, y_train_raw), (x_test_raw, y_test_raw) = keras.datasets.mnist.load_data()"
      ]
    },
    {
      "cell_type": "code",
      "execution_count": null,
      "metadata": {
        "colab": {
          "base_uri": "https://localhost:8080/"
        },
        "id": "L9SC3sIaDv_i",
        "outputId": "9c3a7e32-ceaa-48aa-8722-4144b824f511"
      },
      "outputs": [
        {
          "name": "stdout",
          "output_type": "stream",
          "text": [
            "Raw data:\n",
            "Train x: (60000, 28, 28)\n",
            "      y: (60000,)\n",
            "Test  x: (10000, 28, 28)\n",
            "      y: (10000,)\n"
          ]
        }
      ],
      "source": [
        "# Examine the dataset shape.\n",
        "print(\"Raw data:\")\n",
        "print(f\"Train x: {x_train_raw.shape}\")\n",
        "print(f\"      y: {y_train_raw.shape}\")\n",
        "print(f\"Test  x: {x_test_raw.shape}\")\n",
        "print(f\"      y: {y_test_raw.shape}\")"
      ]
    },
    {
      "cell_type": "code",
      "execution_count": null,
      "metadata": {
        "colab": {
          "base_uri": "https://localhost:8080/"
        },
        "id": "mhnNc_LSAoWh",
        "outputId": "79c07b44-baf6-4062-99be-a667c6e80177"
      },
      "outputs": [
        {
          "name": "stdout",
          "output_type": "stream",
          "text": [
            "\n",
            "Processed data:\n",
            "Train x: (60000, 28, 28)\n",
            "      y: (60000, 10)\n",
            "Test  x: (10000, 28, 28)\n",
            "      y: (10000, 10)\n"
          ]
        }
      ],
      "source": [
        "num_classes = 10\n",
        "\n",
        "# Expand the dimensions of our inputs to ensure their shape is (28, 28, 1),\n",
        "# rather than (28, 28) which is what they are by default.\n",
        "x_train = np.expand_dims(x_train_raw, -1)\n",
        "x_test = np.expand_dims(x_test_raw, -1)\n",
        "\n",
        "# Scale train and test inputs by converting them from range of [0, 255] to [0.0, 1.0]\n",
        "x_train = x_train_raw.astype('float32') / 255.0\n",
        "x_test = x_test_raw.astype('float32') / 255.0\n",
        "\n",
        "# Convert the output to categorical one-hot encoding to match the output of our\n",
        "# network.\n",
        "y_train = keras.utils.to_categorical(y_train_raw, num_classes)\n",
        "y_test = keras.utils.to_categorical(y_test_raw, num_classes)\n",
        "\n",
        "print(\"\\nProcessed data:\")\n",
        "print(f\"Train x: {x_train.shape}\")\n",
        "print(f\"      y: {y_train.shape}\")\n",
        "print(f\"Test  x: {x_test.shape}\")\n",
        "print(f\"      y: {y_test.shape}\")"
      ]
    },
    {
      "cell_type": "code",
      "execution_count": null,
      "metadata": {
        "colab": {
          "base_uri": "https://localhost:8080/"
        },
        "id": "6oCDY6OEDrOp",
        "outputId": "5bd9c85d-2a63-4434-f605-03fceda823fd"
      },
      "outputs": [
        {
          "name": "stdout",
          "output_type": "stream",
          "text": [
            "Y values before preprocessing:\n",
            "[5 0 4 1]\n",
            "\n",
            "Y values after preprocessing:\n",
            "[[0. 0. 0. 0. 0. 1. 0. 0. 0. 0.]\n",
            " [1. 0. 0. 0. 0. 0. 0. 0. 0. 0.]\n",
            " [0. 0. 0. 0. 1. 0. 0. 0. 0. 0.]\n",
            " [0. 1. 0. 0. 0. 0. 0. 0. 0. 0.]]\n"
          ]
        }
      ],
      "source": [
        "# Examine the format of the Y values before and after preprocessing.\n",
        "print('Y values before preprocessing:')\n",
        "print(y_train_raw[0:4])\n",
        "\n",
        "print('\\nY values after preprocessing:')\n",
        "print(y_train[0:4])"
      ]
    },
    {
      "cell_type": "code",
      "execution_count": null,
      "metadata": {
        "id": "rSmV5tE911bM"
      },
      "outputs": [],
      "source": [
        "def lenet_activation(a: float) -> float:\n",
        "    A = 1.7159\n",
        "    S = 2. / 3\n",
        "    return A * keras.activations.tanh(S * a)"
      ]
    },
    {
      "cell_type": "code",
      "execution_count": null,
      "metadata": {
        "colab": {
          "base_uri": "https://localhost:8080/"
        },
        "id": "eptAFMyWBD8L",
        "outputId": "a5db8a93-0352-4321-cd45-43116cb44879"
      },
      "outputs": [
        {
          "name": "stdout",
          "output_type": "stream",
          "text": [
            "Model: \"LeNet-5\"\n",
            "_________________________________________________________________\n",
            " Layer (type)                Output Shape              Param #   \n",
            "=================================================================\n",
            " C1 (Conv2D)                 (None, 28, 28, 6)         156       \n",
            "                                                                 \n",
            " S2 (Subsampling)            (None, 14, 14, 6)         12        \n",
            "                                                                 \n",
            " C3 (Conv2D)                 (None, 10, 10, 16)        2416      \n",
            "                                                                 \n",
            " S4 (Subsampling)            (None, 5, 5, 16)          32        \n",
            "                                                                 \n",
            " flatten (Flatten)           (None, 400)               0         \n",
            "                                                                 \n",
            " C5 (Dense)                  (None, 120)               48120     \n",
            "                                                                 \n",
            " F6 (Dense)                  (None, 84)                10164     \n",
            "                                                                 \n",
            " Output (Dense)              (None, 10)                850       \n",
            "                                                                 \n",
            "=================================================================\n",
            "Total params: 61,750\n",
            "Trainable params: 61,750\n",
            "Non-trainable params: 0\n",
            "_________________________________________________________________\n"
          ]
        }
      ],
      "source": [
        "model = Sequential([\n",
        "    Input(shape=(28, 28, 1)),\n",
        "    Conv2D(filters=6, kernel_size=(5, 5), padding='same', activation=lenet_activation, name=\"C1\"),\n",
        "    Subsampling(pool_size=(2, 2), strides=(2, 2), activation=lenet_activation, name=\"S2\"),\n",
        "    Conv2D(filters=16, kernel_size=(5, 5), activation=lenet_activation, name=\"C3\"),\n",
        "    Subsampling(pool_size=(2, 2), strides=(2, 2), activation=lenet_activation, name=\"S4\"),\n",
        "    Flatten(),\n",
        "    Dense(120, activation=lenet_activation, name=\"C5\"),\n",
        "    Dense(84, activation=lenet_activation, name=\"F6\"),\n",
        "    Dense(10, activation='softmax', name=\"Output\"),\n",
        "], name=\"LeNet-5\")\n",
        "\n",
        "model.summary()"
      ]
    },
    {
      "cell_type": "code",
      "execution_count": null,
      "metadata": {
        "id": "BenA0xmJA9_f"
      },
      "outputs": [],
      "source": [
        "# Compile the model with optimizer and loss function.\n",
        "opt = keras.optimizers.Adam(learning_rate=0.001)\n",
        "loss_fn = keras.losses.CategoricalCrossentropy()\n",
        "model.compile(optimizer=opt, loss=loss_fn, metrics=['accuracy'])"
      ]
    },
    {
      "cell_type": "code",
      "execution_count": null,
      "metadata": {
        "colab": {
          "base_uri": "https://localhost:8080/"
        },
        "id": "UM_tm3UfBSt9",
        "outputId": "e9a470d4-0de4-4499-91c9-cdfe056e8f4c"
      },
      "outputs": [
        {
          "name": "stdout",
          "output_type": "stream",
          "text": [
            "Epoch 1/20\n",
            "1875/1875 [==============================] - 18s 6ms/step - loss: 0.2624 - accuracy: 0.9194\n",
            "Epoch 2/20\n",
            "1875/1875 [==============================] - 7s 4ms/step - loss: 0.0950 - accuracy: 0.9710\n",
            "Epoch 3/20\n",
            "1875/1875 [==============================] - 7s 4ms/step - loss: 0.0619 - accuracy: 0.9808\n",
            "Epoch 4/20\n",
            "1875/1875 [==============================] - 7s 4ms/step - loss: 0.0489 - accuracy: 0.9847\n",
            "Epoch 5/20\n",
            "1875/1875 [==============================] - 7s 4ms/step - loss: 0.0386 - accuracy: 0.9876\n",
            "Epoch 6/20\n",
            "1875/1875 [==============================] - 7s 4ms/step - loss: 0.0334 - accuracy: 0.9893\n",
            "Epoch 7/20\n",
            "1875/1875 [==============================] - 7s 4ms/step - loss: 0.0268 - accuracy: 0.9913\n",
            "Epoch 8/20\n",
            "1875/1875 [==============================] - 7s 4ms/step - loss: 0.0232 - accuracy: 0.9925\n",
            "Epoch 9/20\n",
            "1875/1875 [==============================] - 7s 4ms/step - loss: 0.0197 - accuracy: 0.9935\n",
            "Epoch 10/20\n",
            "1875/1875 [==============================] - 7s 4ms/step - loss: 0.0186 - accuracy: 0.9936\n",
            "Epoch 11/20\n",
            "1875/1875 [==============================] - 7s 4ms/step - loss: 0.0172 - accuracy: 0.9943\n",
            "Epoch 12/20\n",
            "1875/1875 [==============================] - 7s 4ms/step - loss: 0.0136 - accuracy: 0.9954\n",
            "Epoch 13/20\n",
            "1875/1875 [==============================] - 7s 4ms/step - loss: 0.0127 - accuracy: 0.9955\n",
            "Epoch 14/20\n",
            "1875/1875 [==============================] - 7s 4ms/step - loss: 0.0139 - accuracy: 0.9951\n",
            "Epoch 15/20\n",
            "1875/1875 [==============================] - 7s 4ms/step - loss: 0.0104 - accuracy: 0.9967\n",
            "Epoch 16/20\n",
            "1875/1875 [==============================] - 8s 4ms/step - loss: 0.0124 - accuracy: 0.9955\n",
            "Epoch 17/20\n",
            "1875/1875 [==============================] - 7s 4ms/step - loss: 0.0093 - accuracy: 0.9969\n",
            "Epoch 18/20\n",
            "1875/1875 [==============================] - 7s 4ms/step - loss: 0.0101 - accuracy: 0.9968\n",
            "Epoch 19/20\n",
            "1875/1875 [==============================] - 7s 4ms/step - loss: 0.0100 - accuracy: 0.9966\n",
            "Epoch 20/20\n",
            "1875/1875 [==============================] - 7s 4ms/step - loss: 0.0101 - accuracy: 0.9965\n"
          ]
        },
        {
          "data": {
            "text/plain": [
              "<keras.callbacks.History at 0x7f7d50577f10>"
            ]
          },
          "execution_count": null,
          "metadata": {},
          "output_type": "execute_result"
        }
      ],
      "source": [
        "# Train the model\n",
        "model.fit(x_train, y_train, epochs=20)"
      ]
    },
    {
      "cell_type": "code",
      "execution_count": null,
      "metadata": {
        "colab": {
          "base_uri": "https://localhost:8080/"
        },
        "id": "-oORwhVmEbV_",
        "outputId": "0295e999-5d1c-44a8-d3ea-add07e3d0792"
      },
      "outputs": [
        {
          "name": "stdout",
          "output_type": "stream",
          "text": [
            "313/313 [==============================] - 1s 3ms/step - loss: 0.0566 - accuracy: 0.9860\n"
          ]
        },
        {
          "data": {
            "text/plain": [
              "[0.05663033574819565, 0.9860000014305115]"
            ]
          },
          "execution_count": null,
          "metadata": {},
          "output_type": "execute_result"
        }
      ],
      "source": [
        "# Evaluate the model\n",
        "model.evaluate(x_test, y_test)"
      ]
    }
  ],
  "metadata": {
    "accelerator": "GPU",
    "colab": {
      "collapsed_sections": [],
      "name": "LeNet [v2]: custom Subsampling layer and activation function in Keras",
      "provenance": []
    },
    "kernelspec": {
      "display_name": "Python 3",
      "name": "python3"
    },
    "language_info": {
      "name": "python"
    }
  },
  "nbformat": 4,
  "nbformat_minor": 0
}
