{
  "cells": [
    {
      "cell_type": "code",
      "execution_count": null,
      "metadata": {
        "id": null
      },
      "outputs": [],
      "source": [
        "# Copyright 2022 Google LLC\n",
        "#\n",
        "# Licensed under the Apache License, Version 2.0 (the \"License\");\n",
        "# you may not use this file except in compliance with the License.\n",
        "# You may obtain a copy of the License at\n",
        "#\n",
        "#      http://www.apache.org/licenses/LICENSE-2.0\n",
        "#\n",
        "# Unless required by applicable law or agreed to in writing, software\n",
        "# distributed under the License is distributed on an \"AS IS\" BASIS,\n",
        "# WITHOUT WARRANTIES OR CONDITIONS OF ANY KIND, either express or implied.\n",
        "# See the License for the specific language governing permissions and\n",
        "# limitations under the License."
      ]
    },
    {
      "cell_type": "markdown",
      "metadata": {
        "id": null
      },
      "source": [
        "[![View on GitHub][github-badge]][github-basic] [![Open In Colab][colab-badge]][colab-basic] [![Open in Binder][binder-badge]][binder-basic]\n",
        "\n",
        "[github-badge]: https://img.shields.io/badge/View-on%20GitHub-blue?logo=GitHub\n",
        "[colab-badge]: https://colab.research.google.com/assets/colab-badge.svg\n",
        "[binder-badge]: https://static.mybinder.org/badge_logo.svg\n",
        "\n",
        "[github-basic]: https://github.com/mbrukman/reimplementing-ml-papers/blob/main/vgg/Basic_VGG_in_Keras.ipynb\n",
        "[colab-basic]: https://colab.research.google.com/github/mbrukman/reimplementing-ml-papers/blob/main/vgg/Basic_VGG_in_Keras.ipynb\n",
        "[binder-basic]: https://mybinder.org/v2/gh/mbrukman/reimplementing-ml-papers/main?filepath=vgg/Basic_VGG_in_Keras.ipynb"
      ]
    },
    {
      "cell_type": "code",
      "execution_count": null,
      "metadata": {
        "id": null
      },
      "outputs": [],
      "source": [
        "%%bash\n",
        "\n",
        "if ! [ -f \"local_response_normalization.py\" ]; then\n",
        "  curl -sO https://raw.githubusercontent.com/mbrukman/reimplementing-ml-papers/main/alexnet/local_response_normalization.py\n",
        "fi\n",
        "\n",
        "if ! [ -f \"vgg.py\" ]; then\n",
        "  curl -sO https://raw.githubusercontent.com/mbrukman/reimplementing-ml-papers/vgg-py-library/vgg/vgg.py\n",
        "fi"
      ]
    },
    {
      "cell_type": "code",
      "execution_count": null,
      "metadata": {
        "id": null
      },
      "outputs": [],
      "source": [
        "import vgg\n",
        "\n",
        "VGG_A = vgg.VGG_A()\n",
        "VGG_A_LRN = vgg.VGG_A_LRN()\n",
        "VGG_B = vgg.VGG_B()\n",
        "VGG_C = vgg.VGG_C()\n",
        "VGG_D = vgg.VGG_D()\n",
        "VGG_E = vgg.VGG_E()"
      ]
    },
    {
      "cell_type": "code",
      "execution_count": null,
      "metadata": {
        "id": null
      },
      "outputs": [
        {
          "name": "stdout",
          "output_type": "stream",
          "text": [
            "Model: \"VGG-A\"\n",
            "_________________________________________________________________\n",
            " Layer (type)                Output Shape              Param #   \n",
            "=================================================================\n",
            " Conv2D_1_1 (Conv2D)         (None, 224, 224, 64)      1792      \n",
            "                                                                 \n",
            " MaxPool_1 (MaxPooling2D)    (None, 112, 112, 64)      0         \n",
            "                                                                 \n",
            " Conv2D_2_1 (Conv2D)         (None, 112, 112, 128)     73856     \n",
            "                                                                 \n",
            " MaxPool_2 (MaxPooling2D)    (None, 56, 56, 128)       0         \n",
            "                                                                 \n",
            " Conv2D_3_1 (Conv2D)         (None, 56, 56, 256)       295168    \n",
            "                                                                 \n",
            " Conv2D_3_2 (Conv2D)         (None, 56, 56, 256)       590080    \n",
            "                                                                 \n",
            " MaxPool_3 (MaxPooling2D)    (None, 28, 28, 256)       0         \n",
            "                                                                 \n",
            " Conv2D_4_1 (Conv2D)         (None, 28, 28, 512)       1180160   \n",
            "                                                                 \n",
            " Conv2D_4_2 (Conv2D)         (None, 28, 28, 512)       2359808   \n",
            "                                                                 \n",
            " MaxPool_4 (MaxPooling2D)    (None, 14, 14, 512)       0         \n",
            "                                                                 \n",
            " Conv2D_5_1 (Conv2D)         (None, 14, 14, 512)       2359808   \n",
            "                                                                 \n",
            " Conv2D_5_2 (Conv2D)         (None, 14, 14, 512)       2359808   \n",
            "                                                                 \n",
            " MaxPool_5 (MaxPooling2D)    (None, 7, 7, 512)         0         \n",
            "                                                                 \n",
            " Flatten (Flatten)           (None, 25088)             0         \n",
            "                                                                 \n",
            " FC_1 (Dense)                (None, 4096)              102764544 \n",
            "                                                                 \n",
            " FC_2 (Dense)                (None, 4096)              16781312  \n",
            "                                                                 \n",
            " FC_3 (Dense)                (None, 1000)              4097000   \n",
            "                                                                 \n",
            " Softmax (Activation)        (None, 1000)              0         \n",
            "                                                                 \n",
            "=================================================================\n",
            "Total params: 132,863,336\n",
            "Trainable params: 132,863,336\n",
            "Non-trainable params: 0\n",
            "_________________________________________________________________\n"
          ]
        }
      ],
      "source": [
        "VGG_A.summary()"
      ]
    },
    {
      "cell_type": "code",
      "execution_count": null,
      "metadata": {
        "id": null
      },
      "outputs": [
        {
          "name": "stdout",
          "output_type": "stream",
          "text": [
            "Model: \"VGG-A\"\n",
            "_________________________________________________________________\n",
            " Layer (type)                Output Shape              Param #   \n",
            "=================================================================\n",
            " Conv2D_1_1 (Conv2D)         (None, 224, 224, 64)      1792      \n",
            "                                                                 \n",
            " MaxPool_1 (MaxPooling2D)    (None, 112, 112, 64)      0         \n",
            "                                                                 \n",
            " Conv2D_2_1 (Conv2D)         (None, 112, 112, 128)     73856     \n",
            "                                                                 \n",
            " MaxPool_2 (MaxPooling2D)    (None, 56, 56, 128)       0         \n",
            "                                                                 \n",
            " Conv2D_3_1 (Conv2D)         (None, 56, 56, 256)       295168    \n",
            "                                                                 \n",
            " Conv2D_3_2 (Conv2D)         (None, 56, 56, 256)       590080    \n",
            "                                                                 \n",
            " MaxPool_3 (MaxPooling2D)    (None, 28, 28, 256)       0         \n",
            "                                                                 \n",
            " Conv2D_4_1 (Conv2D)         (None, 28, 28, 512)       1180160   \n",
            "                                                                 \n",
            " Conv2D_4_2 (Conv2D)         (None, 28, 28, 512)       2359808   \n",
            "                                                                 \n",
            " MaxPool_4 (MaxPooling2D)    (None, 14, 14, 512)       0         \n",
            "                                                                 \n",
            " Conv2D_5_1 (Conv2D)         (None, 14, 14, 512)       2359808   \n",
            "                                                                 \n",
            " Conv2D_5_2 (Conv2D)         (None, 14, 14, 512)       2359808   \n",
            "                                                                 \n",
            " MaxPool_5 (MaxPooling2D)    (None, 7, 7, 512)         0         \n",
            "                                                                 \n",
            " Flatten (Flatten)           (None, 25088)             0         \n",
            "                                                                 \n",
            " FC_1 (Dense)                (None, 4096)              102764544 \n",
            "                                                                 \n",
            " FC_2 (Dense)                (None, 4096)              16781312  \n",
            "                                                                 \n",
            " FC_3 (Dense)                (None, 1000)              4097000   \n",
            "                                                                 \n",
            " Softmax (Activation)        (None, 1000)              0         \n",
            "                                                                 \n",
            "=================================================================\n",
            "Total params: 132,863,336\n",
            "Trainable params: 132,863,336\n",
            "Non-trainable params: 0\n",
            "_________________________________________________________________\n"
          ]
        }
      ],
      "source": [
        "VGG_A_LRN.summary()"
      ]
    },
    {
      "cell_type": "code",
      "execution_count": null,
      "metadata": {
        "id": null
      },
      "outputs": [
        {
          "name": "stdout",
          "output_type": "stream",
          "text": [
            "Model: \"VGG-B\"\n",
            "_________________________________________________________________\n",
            " Layer (type)                Output Shape              Param #   \n",
            "=================================================================\n",
            " Conv2D_1_1 (Conv2D)         (None, 224, 224, 64)      1792      \n",
            "                                                                 \n",
            " Conv2D_1_2 (Conv2D)         (None, 224, 224, 64)      36928     \n",
            "                                                                 \n",
            " MaxPool_1 (MaxPooling2D)    (None, 112, 112, 64)      0         \n",
            "                                                                 \n",
            " Conv2D_2_1 (Conv2D)         (None, 112, 112, 128)     73856     \n",
            "                                                                 \n",
            " Conv2D_2_2 (Conv2D)         (None, 112, 112, 128)     147584    \n",
            "                                                                 \n",
            " MaxPool_2 (MaxPooling2D)    (None, 56, 56, 128)       0         \n",
            "                                                                 \n",
            " Conv2D_3_1 (Conv2D)         (None, 56, 56, 256)       295168    \n",
            "                                                                 \n",
            " Conv2D_3_2 (Conv2D)         (None, 56, 56, 256)       590080    \n",
            "                                                                 \n",
            " MaxPool_3 (MaxPooling2D)    (None, 28, 28, 256)       0         \n",
            "                                                                 \n",
            " Conv2D_4_1 (Conv2D)         (None, 28, 28, 512)       1180160   \n",
            "                                                                 \n",
            " Conv2D_4_2 (Conv2D)         (None, 28, 28, 512)       2359808   \n",
            "                                                                 \n",
            " MaxPool_4 (MaxPooling2D)    (None, 14, 14, 512)       0         \n",
            "                                                                 \n",
            " Conv2D_5_1 (Conv2D)         (None, 14, 14, 512)       2359808   \n",
            "                                                                 \n",
            " Conv2D_5_2 (Conv2D)         (None, 14, 14, 512)       2359808   \n",
            "                                                                 \n",
            " MaxPool_5 (MaxPooling2D)    (None, 7, 7, 512)         0         \n",
            "                                                                 \n",
            " Flatten (Flatten)           (None, 25088)             0         \n",
            "                                                                 \n",
            " FC_1 (Dense)                (None, 4096)              102764544 \n",
            "                                                                 \n",
            " FC_2 (Dense)                (None, 4096)              16781312  \n",
            "                                                                 \n",
            " FC_3 (Dense)                (None, 1000)              4097000   \n",
            "                                                                 \n",
            " Softmax (Activation)        (None, 1000)              0         \n",
            "                                                                 \n",
            "=================================================================\n",
            "Total params: 133,047,848\n",
            "Trainable params: 133,047,848\n",
            "Non-trainable params: 0\n",
            "_________________________________________________________________\n"
          ]
        }
      ],
      "source": [
        "VGG_B.summary()"
      ]
    },
    {
      "cell_type": "code",
      "execution_count": null,
      "metadata": {
        "id": null
      },
      "outputs": [
        {
          "name": "stdout",
          "output_type": "stream",
          "text": [
            "Model: \"VGG-C\"\n",
            "_________________________________________________________________\n",
            " Layer (type)                Output Shape              Param #   \n",
            "=================================================================\n",
            " Conv2D_1_1 (Conv2D)         (None, 224, 224, 64)      1792      \n",
            "                                                                 \n",
            " Conv2D_1_2 (Conv2D)         (None, 224, 224, 64)      36928     \n",
            "                                                                 \n",
            " MaxPool_1 (MaxPooling2D)    (None, 112, 112, 64)      0         \n",
            "                                                                 \n",
            " Conv2D_2_1 (Conv2D)         (None, 112, 112, 128)     73856     \n",
            "                                                                 \n",
            " Conv2D_2_2 (Conv2D)         (None, 112, 112, 128)     147584    \n",
            "                                                                 \n",
            " MaxPool_2 (MaxPooling2D)    (None, 56, 56, 128)       0         \n",
            "                                                                 \n",
            " Conv2D_3_1 (Conv2D)         (None, 56, 56, 256)       295168    \n",
            "                                                                 \n",
            " Conv2D_3_2 (Conv2D)         (None, 56, 56, 256)       590080    \n",
            "                                                                 \n",
            " Conv2D_3_3 (Conv2D)         (None, 56, 56, 256)       65792     \n",
            "                                                                 \n",
            " MaxPool_3 (MaxPooling2D)    (None, 28, 28, 256)       0         \n",
            "                                                                 \n",
            " Conv2D_4_1 (Conv2D)         (None, 28, 28, 512)       1180160   \n",
            "                                                                 \n",
            " Conv2D_4_2 (Conv2D)         (None, 28, 28, 512)       2359808   \n",
            "                                                                 \n",
            " Conv2D_4_3 (Conv2D)         (None, 28, 28, 512)       262656    \n",
            "                                                                 \n",
            " MaxPool_4 (MaxPooling2D)    (None, 14, 14, 512)       0         \n",
            "                                                                 \n",
            " Conv2D_5_1 (Conv2D)         (None, 14, 14, 512)       2359808   \n",
            "                                                                 \n",
            " Conv2D_5_2 (Conv2D)         (None, 14, 14, 512)       2359808   \n",
            "                                                                 \n",
            " Conv2D_5_3 (Conv2D)         (None, 14, 14, 512)       262656    \n",
            "                                                                 \n",
            " MaxPool_5 (MaxPooling2D)    (None, 7, 7, 512)         0         \n",
            "                                                                 \n",
            " Flatten (Flatten)           (None, 25088)             0         \n",
            "                                                                 \n",
            " FC_1 (Dense)                (None, 4096)              102764544 \n",
            "                                                                 \n",
            " FC_2 (Dense)                (None, 4096)              16781312  \n",
            "                                                                 \n",
            " FC_3 (Dense)                (None, 1000)              4097000   \n",
            "                                                                 \n",
            " Softmax (Activation)        (None, 1000)              0         \n",
            "                                                                 \n",
            "=================================================================\n",
            "Total params: 133,638,952\n",
            "Trainable params: 133,638,952\n",
            "Non-trainable params: 0\n",
            "_________________________________________________________________\n"
          ]
        }
      ],
      "source": [
        "VGG_C.summary()"
      ]
    },
    {
      "cell_type": "code",
      "execution_count": null,
      "metadata": {
        "id": null
      },
      "outputs": [
        {
          "name": "stdout",
          "output_type": "stream",
          "text": [
            "Model: \"VGG-D\"\n",
            "_________________________________________________________________\n",
            " Layer (type)                Output Shape              Param #   \n",
            "=================================================================\n",
            " Conv2D_1_1 (Conv2D)         (None, 224, 224, 64)      1792      \n",
            "                                                                 \n",
            " Conv2D_1_2 (Conv2D)         (None, 224, 224, 64)      36928     \n",
            "                                                                 \n",
            " MaxPool_1 (MaxPooling2D)    (None, 112, 112, 64)      0         \n",
            "                                                                 \n",
            " Conv2D_2_1 (Conv2D)         (None, 112, 112, 128)     73856     \n",
            "                                                                 \n",
            " Conv2D_2_2 (Conv2D)         (None, 112, 112, 128)     147584    \n",
            "                                                                 \n",
            " MaxPool_2 (MaxPooling2D)    (None, 56, 56, 128)       0         \n",
            "                                                                 \n",
            " Conv2D_3_1 (Conv2D)         (None, 56, 56, 256)       295168    \n",
            "                                                                 \n",
            " Conv2D_3_2 (Conv2D)         (None, 56, 56, 256)       590080    \n",
            "                                                                 \n",
            " Conv2D_3_3 (Conv2D)         (None, 56, 56, 256)       590080    \n",
            "                                                                 \n",
            " MaxPool_3 (MaxPooling2D)    (None, 28, 28, 256)       0         \n",
            "                                                                 \n",
            " Conv2D_4_1 (Conv2D)         (None, 28, 28, 512)       1180160   \n",
            "                                                                 \n",
            " Conv2D_4_2 (Conv2D)         (None, 28, 28, 512)       2359808   \n",
            "                                                                 \n",
            " Conv2D_4_4 (Conv2D)         (None, 28, 28, 512)       2359808   \n",
            "                                                                 \n",
            " MaxPool_4 (MaxPooling2D)    (None, 14, 14, 512)       0         \n",
            "                                                                 \n",
            " Conv2D_5_1 (Conv2D)         (None, 14, 14, 512)       2359808   \n",
            "                                                                 \n",
            " Conv2D_5_2 (Conv2D)         (None, 14, 14, 512)       2359808   \n",
            "                                                                 \n",
            " Conv2D_5_3 (Conv2D)         (None, 14, 14, 512)       2359808   \n",
            "                                                                 \n",
            " MaxPool_5 (MaxPooling2D)    (None, 7, 7, 512)         0         \n",
            "                                                                 \n",
            " Flatten (Flatten)           (None, 25088)             0         \n",
            "                                                                 \n",
            " FC_1 (Dense)                (None, 4096)              102764544 \n",
            "                                                                 \n",
            " FC_2 (Dense)                (None, 4096)              16781312  \n",
            "                                                                 \n",
            " FC_3 (Dense)                (None, 1000)              4097000   \n",
            "                                                                 \n",
            " Softmax (Activation)        (None, 1000)              0         \n",
            "                                                                 \n",
            "=================================================================\n",
            "Total params: 138,357,544\n",
            "Trainable params: 138,357,544\n",
            "Non-trainable params: 0\n",
            "_________________________________________________________________\n"
          ]
        }
      ],
      "source": [
        "VGG_D.summary()"
      ]
    },
    {
      "cell_type": "code",
      "execution_count": null,
      "metadata": {
        "id": null
      },
      "outputs": [
        {
          "name": "stdout",
          "output_type": "stream",
          "text": [
            "Model: \"VGG-E\"\n",
            "_________________________________________________________________\n",
            " Layer (type)                Output Shape              Param #   \n",
            "=================================================================\n",
            " Conv2D_1_1 (Conv2D)         (None, 224, 224, 64)      1792      \n",
            "                                                                 \n",
            " Conv2D_1_2 (Conv2D)         (None, 224, 224, 64)      36928     \n",
            "                                                                 \n",
            " MaxPool_1 (MaxPooling2D)    (None, 112, 112, 64)      0         \n",
            "                                                                 \n",
            " Conv2D_2_1 (Conv2D)         (None, 112, 112, 128)     73856     \n",
            "                                                                 \n",
            " Conv2D_2_2 (Conv2D)         (None, 112, 112, 128)     147584    \n",
            "                                                                 \n",
            " MaxPool_2 (MaxPooling2D)    (None, 56, 56, 128)       0         \n",
            "                                                                 \n",
            " Conv2D_3_1 (Conv2D)         (None, 56, 56, 256)       295168    \n",
            "                                                                 \n",
            " Conv2D_3_2 (Conv2D)         (None, 56, 56, 256)       590080    \n",
            "                                                                 \n",
            " Conv2D_3_3 (Conv2D)         (None, 56, 56, 256)       590080    \n",
            "                                                                 \n",
            " Conv2D_3_4 (Conv2D)         (None, 56, 56, 256)       590080    \n",
            "                                                                 \n",
            " MaxPool_3 (MaxPooling2D)    (None, 28, 28, 256)       0         \n",
            "                                                                 \n",
            " Conv2D_4_1 (Conv2D)         (None, 28, 28, 512)       1180160   \n",
            "                                                                 \n",
            " Conv2D_4_2 (Conv2D)         (None, 28, 28, 512)       2359808   \n",
            "                                                                 \n",
            " Conv2D_4_4 (Conv2D)         (None, 28, 28, 512)       2359808   \n",
            "                                                                 \n",
            " Conv2D_4_5 (Conv2D)         (None, 28, 28, 512)       2359808   \n",
            "                                                                 \n",
            " MaxPool_4 (MaxPooling2D)    (None, 14, 14, 512)       0         \n",
            "                                                                 \n",
            " Conv2D_5_1 (Conv2D)         (None, 14, 14, 512)       2359808   \n",
            "                                                                 \n",
            " Conv2D_5_2 (Conv2D)         (None, 14, 14, 512)       2359808   \n",
            "                                                                 \n",
            " Conv2D_5_3 (Conv2D)         (None, 14, 14, 512)       2359808   \n",
            "                                                                 \n",
            " Conv2D_5_4 (Conv2D)         (None, 14, 14, 512)       2359808   \n",
            "                                                                 \n",
            " MaxPool_5 (MaxPooling2D)    (None, 7, 7, 512)         0         \n",
            "                                                                 \n",
            " Flatten (Flatten)           (None, 25088)             0         \n",
            "                                                                 \n",
            " FC_1 (Dense)                (None, 4096)              102764544 \n",
            "                                                                 \n",
            " FC_2 (Dense)                (None, 4096)              16781312  \n",
            "                                                                 \n",
            " FC_3 (Dense)                (None, 1000)              4097000   \n",
            "                                                                 \n",
            " Softmax (Activation)        (None, 1000)              0         \n",
            "                                                                 \n",
            "=================================================================\n",
            "Total params: 143,667,240\n",
            "Trainable params: 143,667,240\n",
            "Non-trainable params: 0\n",
            "_________________________________________________________________\n"
          ]
        }
      ],
      "source": [
        "VGG_E.summary()"
      ]
    }
  ],
  "metadata": {
    "colab": {
      "name": "Basic VGG network in Keras"
    },
    "kernelspec": {
      "display_name": "Python 3",
      "name": "python3"
    },
    "language_info": {
      "name": "python"
    }
  },
  "nbformat": 4,
  "nbformat_minor": 0
}