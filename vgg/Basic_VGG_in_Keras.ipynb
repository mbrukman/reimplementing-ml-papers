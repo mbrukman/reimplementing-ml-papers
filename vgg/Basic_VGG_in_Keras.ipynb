{
  "cells": [
    {
      "cell_type": "code",
      "execution_count": null,
      "metadata": {
        "id": null
      },
      "outputs": [],
      "source": [
        "# Copyright 2022 Google LLC\n",
        "#\n",
        "# Licensed under the Apache License, Version 2.0 (the \"License\");\n",
        "# you may not use this file except in compliance with the License.\n",
        "# You may obtain a copy of the License at\n",
        "#\n",
        "#      http://www.apache.org/licenses/LICENSE-2.0\n",
        "#\n",
        "# Unless required by applicable law or agreed to in writing, software\n",
        "# distributed under the License is distributed on an \"AS IS\" BASIS,\n",
        "# WITHOUT WARRANTIES OR CONDITIONS OF ANY KIND, either express or implied.\n",
        "# See the License for the specific language governing permissions and\n",
        "# limitations under the License."
      ]
    },
    {
      "cell_type": "markdown",
      "metadata": {
        "id": null
      },
      "source": [
        "[![View on GitHub][github-badge]][github-basic] [![Open In Colab][colab-badge]][colab-basic] [![Open in Binder][binder-badge]][binder-basic]\n",
        "\n",
        "[github-badge]: https://img.shields.io/badge/View-on%20GitHub-blue?logo=GitHub\n",
        "[colab-badge]: https://colab.research.google.com/assets/colab-badge.svg\n",
        "[binder-badge]: https://static.mybinder.org/badge_logo.svg\n",
        "\n",
        "[github-basic]: Basic_VGG_in_Keras.ipynb\n",
        "[colab-basic]: https://colab.research.google.com/github/mbrukman/reimplementing-ml-papers/blob/main/vgg/Basic_VGG_in_Keras.ipynb\n",
        "[binder-basic]: https://mybinder.org/v2/gh/mbrukman/reimplementing-ml-papers/main?filepath=vgg/Basic_VGG_in_Keras.ipynb"
      ]
    },
    {
      "cell_type": "code",
      "execution_count": null,
      "metadata": {
        "id": null
      },
      "outputs": [],
      "source": [
        "from tensorflow import keras\n",
        "from keras import Input, Sequential\n",
        "from keras.layers import Activation, Conv2D, Dense, Flatten, MaxPool2D"
      ]
    },
    {
      "cell_type": "code",
      "execution_count": null,
      "metadata": {
        "id": null
      },
      "outputs": [],
      "source": [
        "!curl -sO https://raw.githubusercontent.com/mbrukman/reimplementing-ml-papers/main/alexnet/local_response_normalization.py\n",
        "\n",
        "from local_response_normalization import LocalResponseNormalization"
      ]
    },
    {
      "cell_type": "code",
      "execution_count": null,
      "metadata": {
        "id": null
      },
      "outputs": [],
      "source": [
        "def Conv(filters: int, kernel_size: int, **kwargs) -> Conv2D:\n",
        "    \"\"\"Shorthand for defining the Conv2D layers for VGG family of models.\n",
        "    \n",
        "    All VGG models have a stride of 1 and 'same' padding, so to avoid repeating\n",
        "    these parameters (or skipping them, which leads to 'valid' padding), we use\n",
        "    a convenience function here.\n",
        "\n",
        "    Additionally, all hidden layers in VGG are specified to use ReLU activation,\n",
        "    so we include that here as well.\n",
        "    \"\"\"\n",
        "    return Conv2D(filters, kernel_size, strides=(1, 1), padding='same',\n",
        "                  activation='relu', **kwargs)\n",
        "\n",
        "\n",
        "def MaxPool(**kwargs) -> MaxPool2D:\n",
        "    \"\"\"Shorthand for defining the MaxPool layers for VGG fmaily of models.\n",
        "    \n",
        "    All pooling layers in VGG are using kernel size of 2 with a stride of 2, so\n",
        "    we define a shorthand here to ensure their uniformity.\n",
        "    \"\"\"\n",
        "    return MaxPool2D(pool_size=(2, 2), strides=(2, 2), **kwargs)"
      ]
    },
    {
      "cell_type": "code",
      "execution_count": null,
      "metadata": {
        "id": null
      },
      "outputs": [],
      "source": [
        "# Available model types.\n",
        "MODEL_A = 'A'\n",
        "MODEL_A_LRN = 'A-LRN'\n",
        "MODEL_B = 'B'\n",
        "MODEL_C = 'C'\n",
        "MODEL_D = 'D'\n",
        "MODEL_E = 'E'"
      ]
    },
    {
      "cell_type": "code",
      "execution_count": null,
      "metadata": {
        "id": null
      },
      "outputs": [],
      "source": [
        "def VGG(model: str) -> Sequential:\n",
        "    \"\"\"Defines a specific VGG model, given one of the valid model types.\"\"\"\n",
        "    assert model in (MODEL_A, MODEL_A_LRN, MODEL_B, MODEL_C, MODEL_D, MODEL_E)\n",
        "\n",
        "    vgg = Sequential([\n",
        "        Input(shape=(224, 224, 3)),\n",
        "    ], name=f'VGG-{model}')\n",
        "\n",
        "    # First block\n",
        "    vgg.add(Conv2D(64, 3, 1, name='Conv2D_1_1'))\n",
        "    if model == MODEL_A:\n",
        "        # No other layers are added here.\n",
        "        pass\n",
        "    elif model == MODEL_A_LRN:\n",
        "        vgg.add(LocalResponseNormalization(name='LRN'))\n",
        "    else:\n",
        "        vgg.add(Conv(64, 3, name='Conv2D_1_2'))\n",
        "    \n",
        "    vgg.add(MaxPool(name='MaxPool_1'))\n",
        "\n",
        "    # Second block\n",
        "    vgg.add(Conv(128, 3, name='Conv2D_2_1'))\n",
        "    if model in (MODEL_B, MODEL_C, MODEL_D, MODEL_E):\n",
        "        vgg.add(Conv(128, 3, name='Conv2D_2_2'))\n",
        "\n",
        "    vgg.add(MaxPool(name='MaxPool_2'))\n",
        "\n",
        "    # Third block\n",
        "    vgg.add(Conv(256, 3, name='Conv2D_3_1'))\n",
        "    vgg.add(Conv(256, 3, name='Conv2D_3_2'))\n",
        "\n",
        "    if model == MODEL_C:\n",
        "        vgg.add(Conv(256, 1, name='Conv2D_3_3'))\n",
        "    elif model in (MODEL_D, MODEL_E):\n",
        "        vgg.add(Conv(256, 3, name='Conv2D_3_3'))\n",
        "\n",
        "    # Model E gets an extra layer.\n",
        "    if model == MODEL_E:\n",
        "        vgg.add(Conv(256, 3, name='Conv2D_3_4'))\n",
        "\n",
        "    vgg.add(MaxPool(name='MaxPool_3'))\n",
        "\n",
        "    # Fourth block\n",
        "    vgg.add(Conv(512, 3, name='Conv2D_4_1'))\n",
        "    vgg.add(Conv(512, 3, name='Conv2D_4_2'))\n",
        "\n",
        "    if model == MODEL_C:\n",
        "        vgg.add(Conv(512, 1, name='Conv2D_4_3'))\n",
        "    elif model in (MODEL_D, MODEL_E):\n",
        "        vgg.add(Conv(512, 3, name='Conv2D_4_4'))\n",
        "\n",
        "    # Model E gets an extra layer.\n",
        "    if model == MODEL_E:\n",
        "        vgg.add(Conv(512, 3, name='Conv2D_4_5'))\n",
        "\n",
        "    vgg.add(MaxPool(name='MaxPool_4'))\n",
        "\n",
        "    # Fifth block\n",
        "    vgg.add(Conv(512, 3, name='Conv2D_5_1'))\n",
        "    vgg.add(Conv(512, 3, name='Conv2D_5_2'))\n",
        "    if model == MODEL_C:\n",
        "        vgg.add(Conv(512, 1, name='Conv2D_5_3'))\n",
        "    elif model in (MODEL_D, MODEL_E):\n",
        "        vgg.add(Conv(512, 3, name='Conv2D_5_3'))\n",
        "\n",
        "    # Model E gets an extra layer.\n",
        "    if model == MODEL_E:\n",
        "        vgg.add(Conv(512, 3, name='Conv2D_5_4'))\n",
        "\n",
        "    vgg.add(MaxPool(name='MaxPool_5'))\n",
        "\n",
        "    vgg.add(Flatten(name='Flatten'))\n",
        "    vgg.add(Dense(4096, name='FC_1', activation='relu'))\n",
        "    vgg.add(Dense(4096, name='FC_2', activation='relu'))\n",
        "    vgg.add(Dense(1000, name='FC_3', activation='relu'))\n",
        "    vgg.add(Activation(keras.activations.softmax, name='Softmax'))\n",
        "\n",
        "    return vgg"
      ]
    },
    {
      "cell_type": "code",
      "execution_count": null,
      "metadata": {
        "id": null
      },
      "outputs": [],
      "source": [
        "VGG_A = VGG(MODEL_A)\n",
        "VGG_A_LRN = VGG(MODEL_A_LRN)\n",
        "VGG_B = VGG(MODEL_B)\n",
        "VGG_C = VGG(MODEL_C)\n",
        "VGG_D = VGG(MODEL_D)\n",
        "VGG_E = VGG(MODEL_E)"
      ]
    },
    {
      "cell_type": "code",
      "execution_count": null,
      "metadata": {
        "id": null
      },
      "outputs": [
        {
          "name": "stdout",
          "output_type": "stream",
          "text": [
            "Model: \"VGG-A\"\n",
            "_________________________________________________________________\n",
            " Layer (type)                Output Shape              Param #   \n",
            "=================================================================\n",
            " Conv2D_1_1 (Conv2D)         (None, 222, 222, 64)      1792      \n",
            "                                                                 \n",
            " MaxPool_1 (MaxPooling2D)    (None, 111, 111, 64)      0         \n",
            "                                                                 \n",
            " Conv2D_2_1 (Conv2D)         (None, 111, 111, 128)     73856     \n",
            "                                                                 \n",
            " MaxPool_2 (MaxPooling2D)    (None, 55, 55, 128)       0         \n",
            "                                                                 \n",
            " Conv2D_3_1 (Conv2D)         (None, 55, 55, 256)       295168    \n",
            "                                                                 \n",
            " Conv2D_3_2 (Conv2D)         (None, 55, 55, 256)       590080    \n",
            "                                                                 \n",
            " MaxPool_3 (MaxPooling2D)    (None, 27, 27, 256)       0         \n",
            "                                                                 \n",
            " Conv2D_4_1 (Conv2D)         (None, 27, 27, 512)       1180160   \n",
            "                                                                 \n",
            " Conv2D_4_2 (Conv2D)         (None, 27, 27, 512)       2359808   \n",
            "                                                                 \n",
            " MaxPool_4 (MaxPooling2D)    (None, 13, 13, 512)       0         \n",
            "                                                                 \n",
            " Conv2D_5_1 (Conv2D)         (None, 13, 13, 512)       2359808   \n",
            "                                                                 \n",
            " Conv2D_5_2 (Conv2D)         (None, 13, 13, 512)       2359808   \n",
            "                                                                 \n",
            " MaxPool_5 (MaxPooling2D)    (None, 6, 6, 512)         0         \n",
            "                                                                 \n",
            " Flatten (Flatten)           (None, 18432)             0         \n",
            "                                                                 \n",
            " FC_1 (Dense)                (None, 4096)              75501568  \n",
            "                                                                 \n",
            " FC_2 (Dense)                (None, 4096)              16781312  \n",
            "                                                                 \n",
            " FC_3 (Dense)                (None, 1000)              4097000   \n",
            "                                                                 \n",
            " Softmax (Activation)        (None, 1000)              0         \n",
            "                                                                 \n",
            "=================================================================\n",
            "Total params: 105,600,360\n",
            "Trainable params: 105,600,360\n",
            "Non-trainable params: 0\n",
            "_________________________________________________________________\n"
          ]
        }
      ],
      "source": [
        "VGG_A.summary()"
      ]
    },
    {
      "cell_type": "code",
      "execution_count": null,
      "metadata": {
        "id": null
      },
      "outputs": [
        {
          "name": "stdout",
          "output_type": "stream",
          "text": [
            "Model: \"VGG-A-LRN\"\n",
            "_________________________________________________________________\n",
            " Layer (type)                Output Shape              Param #   \n",
            "=================================================================\n",
            " Conv2D_1_1 (Conv2D)         (None, 222, 222, 64)      1792      \n",
            "                                                                 \n",
            " LRN (LocalResponseNormaliza  (None, 222, 222, 64)     0         \n",
            " tion)                                                           \n",
            "                                                                 \n",
            " MaxPool_1 (MaxPooling2D)    (None, 111, 111, 64)      0         \n",
            "                                                                 \n",
            " Conv2D_2_1 (Conv2D)         (None, 111, 111, 128)     73856     \n",
            "                                                                 \n",
            " MaxPool_2 (MaxPooling2D)    (None, 55, 55, 128)       0         \n",
            "                                                                 \n",
            " Conv2D_3_1 (Conv2D)         (None, 55, 55, 256)       295168    \n",
            "                                                                 \n",
            " Conv2D_3_2 (Conv2D)         (None, 55, 55, 256)       590080    \n",
            "                                                                 \n",
            " MaxPool_3 (MaxPooling2D)    (None, 27, 27, 256)       0         \n",
            "                                                                 \n",
            " Conv2D_4_1 (Conv2D)         (None, 27, 27, 512)       1180160   \n",
            "                                                                 \n",
            " Conv2D_4_2 (Conv2D)         (None, 27, 27, 512)       2359808   \n",
            "                                                                 \n",
            " MaxPool_4 (MaxPooling2D)    (None, 13, 13, 512)       0         \n",
            "                                                                 \n",
            " Conv2D_5_1 (Conv2D)         (None, 13, 13, 512)       2359808   \n",
            "                                                                 \n",
            " Conv2D_5_2 (Conv2D)         (None, 13, 13, 512)       2359808   \n",
            "                                                                 \n",
            " MaxPool_5 (MaxPooling2D)    (None, 6, 6, 512)         0         \n",
            "                                                                 \n",
            " Flatten (Flatten)           (None, 18432)             0         \n",
            "                                                                 \n",
            " FC_1 (Dense)                (None, 4096)              75501568  \n",
            "                                                                 \n",
            " FC_2 (Dense)                (None, 4096)              16781312  \n",
            "                                                                 \n",
            " FC_3 (Dense)                (None, 1000)              4097000   \n",
            "                                                                 \n",
            " Softmax (Activation)        (None, 1000)              0         \n",
            "                                                                 \n",
            "=================================================================\n",
            "Total params: 105,600,360\n",
            "Trainable params: 105,600,360\n",
            "Non-trainable params: 0\n",
            "_________________________________________________________________\n"
          ]
        }
      ],
      "source": [
        "VGG_A_LRN.summary()"
      ]
    },
    {
      "cell_type": "code",
      "execution_count": null,
      "metadata": {
        "id": null
      },
      "outputs": [
        {
          "name": "stdout",
          "output_type": "stream",
          "text": [
            "Model: \"VGG-B\"\n",
            "_________________________________________________________________\n",
            " Layer (type)                Output Shape              Param #   \n",
            "=================================================================\n",
            " Conv2D_1_1 (Conv2D)         (None, 222, 222, 64)      1792      \n",
            "                                                                 \n",
            " Conv2D_1_2 (Conv2D)         (None, 222, 222, 64)      36928     \n",
            "                                                                 \n",
            " MaxPool_1 (MaxPooling2D)    (None, 111, 111, 64)      0         \n",
            "                                                                 \n",
            " Conv2D_2_1 (Conv2D)         (None, 111, 111, 128)     73856     \n",
            "                                                                 \n",
            " Conv2D_2_2 (Conv2D)         (None, 111, 111, 128)     147584    \n",
            "                                                                 \n",
            " MaxPool_2 (MaxPooling2D)    (None, 55, 55, 128)       0         \n",
            "                                                                 \n",
            " Conv2D_3_1 (Conv2D)         (None, 55, 55, 256)       295168    \n",
            "                                                                 \n",
            " Conv2D_3_2 (Conv2D)         (None, 55, 55, 256)       590080    \n",
            "                                                                 \n",
            " MaxPool_3 (MaxPooling2D)    (None, 27, 27, 256)       0         \n",
            "                                                                 \n",
            " Conv2D_4_1 (Conv2D)         (None, 27, 27, 512)       1180160   \n",
            "                                                                 \n",
            " Conv2D_4_2 (Conv2D)         (None, 27, 27, 512)       2359808   \n",
            "                                                                 \n",
            " MaxPool_4 (MaxPooling2D)    (None, 13, 13, 512)       0         \n",
            "                                                                 \n",
            " Conv2D_5_1 (Conv2D)         (None, 13, 13, 512)       2359808   \n",
            "                                                                 \n",
            " Conv2D_5_2 (Conv2D)         (None, 13, 13, 512)       2359808   \n",
            "                                                                 \n",
            " MaxPool_5 (MaxPooling2D)    (None, 6, 6, 512)         0         \n",
            "                                                                 \n",
            " Flatten (Flatten)           (None, 18432)             0         \n",
            "                                                                 \n",
            " FC_1 (Dense)                (None, 4096)              75501568  \n",
            "                                                                 \n",
            " FC_2 (Dense)                (None, 4096)              16781312  \n",
            "                                                                 \n",
            " FC_3 (Dense)                (None, 1000)              4097000   \n",
            "                                                                 \n",
            " Softmax (Activation)        (None, 1000)              0         \n",
            "                                                                 \n",
            "=================================================================\n",
            "Total params: 105,784,872\n",
            "Trainable params: 105,784,872\n",
            "Non-trainable params: 0\n",
            "_________________________________________________________________\n"
          ]
        }
      ],
      "source": [
        "VGG_B.summary()"
      ]
    },
    {
      "cell_type": "code",
      "execution_count": null,
      "metadata": {
        "id": null
      },
      "outputs": [
        {
          "name": "stdout",
          "output_type": "stream",
          "text": [
            "Model: \"VGG-C\"\n",
            "_________________________________________________________________\n",
            " Layer (type)                Output Shape              Param #   \n",
            "=================================================================\n",
            " Conv2D_1_1 (Conv2D)         (None, 222, 222, 64)      1792      \n",
            "                                                                 \n",
            " Conv2D_1_2 (Conv2D)         (None, 222, 222, 64)      36928     \n",
            "                                                                 \n",
            " MaxPool_1 (MaxPooling2D)    (None, 111, 111, 64)      0         \n",
            "                                                                 \n",
            " Conv2D_2_1 (Conv2D)         (None, 111, 111, 128)     73856     \n",
            "                                                                 \n",
            " Conv2D_2_2 (Conv2D)         (None, 111, 111, 128)     147584    \n",
            "                                                                 \n",
            " MaxPool_2 (MaxPooling2D)    (None, 55, 55, 128)       0         \n",
            "                                                                 \n",
            " Conv2D_3_1 (Conv2D)         (None, 55, 55, 256)       295168    \n",
            "                                                                 \n",
            " Conv2D_3_2 (Conv2D)         (None, 55, 55, 256)       590080    \n",
            "                                                                 \n",
            " Conv2D_3_3 (Conv2D)         (None, 55, 55, 256)       65792     \n",
            "                                                                 \n",
            " MaxPool_3 (MaxPooling2D)    (None, 27, 27, 256)       0         \n",
            "                                                                 \n",
            " Conv2D_4_1 (Conv2D)         (None, 27, 27, 512)       1180160   \n",
            "                                                                 \n",
            " Conv2D_4_2 (Conv2D)         (None, 27, 27, 512)       2359808   \n",
            "                                                                 \n",
            " Conv2D_4_3 (Conv2D)         (None, 27, 27, 512)       262656    \n",
            "                                                                 \n",
            " MaxPool_4 (MaxPooling2D)    (None, 13, 13, 512)       0         \n",
            "                                                                 \n",
            " Conv2D_5_1 (Conv2D)         (None, 13, 13, 512)       2359808   \n",
            "                                                                 \n",
            " Conv2D_5_2 (Conv2D)         (None, 13, 13, 512)       2359808   \n",
            "                                                                 \n",
            " Conv2D_5_3 (Conv2D)         (None, 13, 13, 512)       262656    \n",
            "                                                                 \n",
            " MaxPool_5 (MaxPooling2D)    (None, 6, 6, 512)         0         \n",
            "                                                                 \n",
            " Flatten (Flatten)           (None, 18432)             0         \n",
            "                                                                 \n",
            " FC_1 (Dense)                (None, 4096)              75501568  \n",
            "                                                                 \n",
            " FC_2 (Dense)                (None, 4096)              16781312  \n",
            "                                                                 \n",
            " FC_3 (Dense)                (None, 1000)              4097000   \n",
            "                                                                 \n",
            " Softmax (Activation)        (None, 1000)              0         \n",
            "                                                                 \n",
            "=================================================================\n",
            "Total params: 106,375,976\n",
            "Trainable params: 106,375,976\n",
            "Non-trainable params: 0\n",
            "_________________________________________________________________\n"
          ]
        }
      ],
      "source": [
        "VGG_C.summary()"
      ]
    },
    {
      "cell_type": "code",
      "execution_count": null,
      "metadata": {
        "id": null
      },
      "outputs": [
        {
          "name": "stdout",
          "output_type": "stream",
          "text": [
            "Model: \"VGG-D\"\n",
            "_________________________________________________________________\n",
            " Layer (type)                Output Shape              Param #   \n",
            "=================================================================\n",
            " Conv2D_1_1 (Conv2D)         (None, 222, 222, 64)      1792      \n",
            "                                                                 \n",
            " Conv2D_1_2 (Conv2D)         (None, 222, 222, 64)      36928     \n",
            "                                                                 \n",
            " MaxPool_1 (MaxPooling2D)    (None, 111, 111, 64)      0         \n",
            "                                                                 \n",
            " Conv2D_2_1 (Conv2D)         (None, 111, 111, 128)     73856     \n",
            "                                                                 \n",
            " Conv2D_2_2 (Conv2D)         (None, 111, 111, 128)     147584    \n",
            "                                                                 \n",
            " MaxPool_2 (MaxPooling2D)    (None, 55, 55, 128)       0         \n",
            "                                                                 \n",
            " Conv2D_3_1 (Conv2D)         (None, 55, 55, 256)       295168    \n",
            "                                                                 \n",
            " Conv2D_3_2 (Conv2D)         (None, 55, 55, 256)       590080    \n",
            "                                                                 \n",
            " Conv2D_3_3 (Conv2D)         (None, 55, 55, 256)       590080    \n",
            "                                                                 \n",
            " MaxPool_3 (MaxPooling2D)    (None, 27, 27, 256)       0         \n",
            "                                                                 \n",
            " Conv2D_4_1 (Conv2D)         (None, 27, 27, 512)       1180160   \n",
            "                                                                 \n",
            " Conv2D_4_2 (Conv2D)         (None, 27, 27, 512)       2359808   \n",
            "                                                                 \n",
            " Conv2D_4_4 (Conv2D)         (None, 27, 27, 512)       2359808   \n",
            "                                                                 \n",
            " MaxPool_4 (MaxPooling2D)    (None, 13, 13, 512)       0         \n",
            "                                                                 \n",
            " Conv2D_5_1 (Conv2D)         (None, 13, 13, 512)       2359808   \n",
            "                                                                 \n",
            " Conv2D_5_2 (Conv2D)         (None, 13, 13, 512)       2359808   \n",
            "                                                                 \n",
            " Conv2D_5_3 (Conv2D)         (None, 13, 13, 512)       2359808   \n",
            "                                                                 \n",
            " MaxPool_5 (MaxPooling2D)    (None, 6, 6, 512)         0         \n",
            "                                                                 \n",
            " Flatten (Flatten)           (None, 18432)             0         \n",
            "                                                                 \n",
            " FC_1 (Dense)                (None, 4096)              75501568  \n",
            "                                                                 \n",
            " FC_2 (Dense)                (None, 4096)              16781312  \n",
            "                                                                 \n",
            " FC_3 (Dense)                (None, 1000)              4097000   \n",
            "                                                                 \n",
            " Softmax (Activation)        (None, 1000)              0         \n",
            "                                                                 \n",
            "=================================================================\n",
            "Total params: 111,094,568\n",
            "Trainable params: 111,094,568\n",
            "Non-trainable params: 0\n",
            "_________________________________________________________________\n"
          ]
        }
      ],
      "source": [
        "VGG_D.summary()"
      ]
    },
    {
      "cell_type": "code",
      "execution_count": null,
      "metadata": {
        "id": null
      },
      "outputs": [
        {
          "name": "stdout",
          "output_type": "stream",
          "text": [
            "Model: \"VGG-E\"\n",
            "_________________________________________________________________\n",
            " Layer (type)                Output Shape              Param #   \n",
            "=================================================================\n",
            " Conv2D_1_1 (Conv2D)         (None, 222, 222, 64)      1792      \n",
            "                                                                 \n",
            " Conv2D_1_2 (Conv2D)         (None, 222, 222, 64)      36928     \n",
            "                                                                 \n",
            " MaxPool_1 (MaxPooling2D)    (None, 111, 111, 64)      0         \n",
            "                                                                 \n",
            " Conv2D_2_1 (Conv2D)         (None, 111, 111, 128)     73856     \n",
            "                                                                 \n",
            " Conv2D_2_2 (Conv2D)         (None, 111, 111, 128)     147584    \n",
            "                                                                 \n",
            " MaxPool_2 (MaxPooling2D)    (None, 55, 55, 128)       0         \n",
            "                                                                 \n",
            " Conv2D_3_1 (Conv2D)         (None, 55, 55, 256)       295168    \n",
            "                                                                 \n",
            " Conv2D_3_2 (Conv2D)         (None, 55, 55, 256)       590080    \n",
            "                                                                 \n",
            " Conv2D_3_3 (Conv2D)         (None, 55, 55, 256)       590080    \n",
            "                                                                 \n",
            " Conv2D_3_4 (Conv2D)         (None, 55, 55, 256)       590080    \n",
            "                                                                 \n",
            " MaxPool_3 (MaxPooling2D)    (None, 27, 27, 256)       0         \n",
            "                                                                 \n",
            " Conv2D_4_1 (Conv2D)         (None, 27, 27, 512)       1180160   \n",
            "                                                                 \n",
            " Conv2D_4_2 (Conv2D)         (None, 27, 27, 512)       2359808   \n",
            "                                                                 \n",
            " Conv2D_4_4 (Conv2D)         (None, 27, 27, 512)       2359808   \n",
            "                                                                 \n",
            " Conv2D_4_5 (Conv2D)         (None, 27, 27, 512)       2359808   \n",
            "                                                                 \n",
            " MaxPool_4 (MaxPooling2D)    (None, 13, 13, 512)       0         \n",
            "                                                                 \n",
            " Conv2D_5_1 (Conv2D)         (None, 13, 13, 512)       2359808   \n",
            "                                                                 \n",
            " Conv2D_5_2 (Conv2D)         (None, 13, 13, 512)       2359808   \n",
            "                                                                 \n",
            " Conv2D_5_3 (Conv2D)         (None, 13, 13, 512)       2359808   \n",
            "                                                                 \n",
            " Conv2D_5_4 (Conv2D)         (None, 13, 13, 512)       2359808   \n",
            "                                                                 \n",
            " MaxPool_5 (MaxPooling2D)    (None, 6, 6, 512)         0         \n",
            "                                                                 \n",
            " Flatten (Flatten)           (None, 18432)             0         \n",
            "                                                                 \n",
            " FC_1 (Dense)                (None, 4096)              75501568  \n",
            "                                                                 \n",
            " FC_2 (Dense)                (None, 4096)              16781312  \n",
            "                                                                 \n",
            " FC_3 (Dense)                (None, 1000)              4097000   \n",
            "                                                                 \n",
            " Softmax (Activation)        (None, 1000)              0         \n",
            "                                                                 \n",
            "=================================================================\n",
            "Total params: 116,404,264\n",
            "Trainable params: 116,404,264\n",
            "Non-trainable params: 0\n",
            "_________________________________________________________________\n"
          ]
        }
      ],
      "source": [
        "VGG_E.summary()"
      ]
    }
  ],
  "metadata": {
    "colab": {
      "name": "Basic VGG network in Keras"
    },
    "kernelspec": {
      "display_name": "Python 3",
      "name": "python3"
    },
    "language_info": {
      "name": "python"
    }
  },
  "nbformat": 4,
  "nbformat_minor": 0
}